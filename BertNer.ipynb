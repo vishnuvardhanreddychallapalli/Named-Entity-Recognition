{
  "nbformat": 4,
  "nbformat_minor": 0,
  "metadata": {
    "colab": {
      "name": "BertNer.ipynb",
      "provenance": [],
      "include_colab_link": true
    },
    "kernelspec": {
      "name": "python3",
      "display_name": "Python 3"
    },
    "accelerator": "GPU"
  },
  "cells": [
    {
      "cell_type": "markdown",
      "metadata": {
        "id": "view-in-github",
        "colab_type": "text"
      },
      "source": [
        "<a href=\"https://colab.research.google.com/github/vishnuvardhanreddychallapalli/Named-Entity-Recognition/blob/master/BertNer.ipynb\" target=\"_parent\"><img src=\"https://colab.research.google.com/assets/colab-badge.svg\" alt=\"Open In Colab\"/></a>"
      ]
    },
    {
      "cell_type": "code",
      "metadata": {
        "id": "4WSFYlKTeE8R",
        "colab_type": "code",
        "colab": {}
      },
      "source": [
        "def get_data_and_labels(filename,is_train):\n",
        "    my_data=[]\n",
        "    my_labels=[]\n",
        "    curr_label=[]\n",
        "    curr_sent=[]\n",
        "    with open(filename) as f:\n",
        "        for eachline in f:\n",
        "            if len(eachline.strip())==0:\n",
        "                #print(\"length of line ={} and sent={}\".format(len(eachline),eachline))\n",
        "                if(is_train):\n",
        "                    my_data.append(\" \".join(curr_sent))\n",
        "                    my_labels.append(curr_label)\n",
        "                else:\n",
        "                    my_data.append(\" \".join(curr_sent))\n",
        "                curr_label=[]\n",
        "                curr_sent=[]\n",
        "            else:\n",
        "                my_keys=eachline.strip().split(\"\\t\")\n",
        "                #print(my_keys)\n",
        "                if(is_train):\n",
        "                    curr_sent.append(my_keys[0])\n",
        "                    curr_label.append(my_keys[1])\n",
        "                else:\n",
        "                    curr_sent.append(my_keys[0])\n",
        "    if is_train:\n",
        "        return my_data,my_labels\n",
        "    else:\n",
        "        return my_data"
      ],
      "execution_count": 0,
      "outputs": []
    },
    {
      "cell_type": "code",
      "metadata": {
        "id": "B3YRO5eceTUF",
        "colab_type": "code",
        "colab": {}
      },
      "source": [
        "train_data,train_labels=get_data_and_labels('train.txt',True)"
      ],
      "execution_count": 0,
      "outputs": []
    },
    {
      "cell_type": "code",
      "metadata": {
        "id": "ydGhe8WdeWXD",
        "colab_type": "code",
        "colab": {}
      },
      "source": [
        "test_data=get_data_and_labels('test.txt',False)"
      ],
      "execution_count": 0,
      "outputs": []
    },
    {
      "cell_type": "code",
      "metadata": {
        "id": "t22xNzBFeW4R",
        "colab_type": "code",
        "outputId": "0fbd8d6c-4e1f-42a2-81a7-e776a30f0c69",
        "colab": {
          "base_uri": "https://localhost:8080/",
          "height": 34
        }
      },
      "source": [
        "len(train_data),len(train_labels)"
      ],
      "execution_count": 0,
      "outputs": [
        {
          "output_type": "execute_result",
          "data": {
            "text/plain": [
              "(3395, 3395)"
            ]
          },
          "metadata": {
            "tags": []
          },
          "execution_count": 4
        }
      ]
    },
    {
      "cell_type": "code",
      "metadata": {
        "id": "d78gb32NeY1T",
        "colab_type": "code",
        "outputId": "120559e0-b839-41b3-d748-8c3427466695",
        "colab": {
          "base_uri": "https://localhost:8080/",
          "height": 34
        }
      },
      "source": [
        "len(test_data)"
      ],
      "execution_count": 0,
      "outputs": [
        {
          "output_type": "execute_result",
          "data": {
            "text/plain": [
              "1287"
            ]
          },
          "metadata": {
            "tags": []
          },
          "execution_count": 5
        }
      ]
    },
    {
      "cell_type": "code",
      "metadata": {
        "id": "WhaPlf-Jea6N",
        "colab_type": "code",
        "outputId": "aa5ee8df-853a-4880-88d7-b0fb4de7b5a3",
        "colab": {
          "base_uri": "https://localhost:8080/",
          "height": 243
        }
      },
      "source": [
        "counter=dict()\n",
        "for each_list in train_labels:\n",
        "  curr_list=each_list\n",
        "  for each_label in each_list:\n",
        "    if counter.get(each_label)==None:\n",
        "      counter[each_label]=1\n",
        "    else:\n",
        "      counter[each_label]+=1\n",
        "counter"
      ],
      "execution_count": 0,
      "outputs": [
        {
          "output_type": "execute_result",
          "data": {
            "text/plain": [
              "{'B-corporation': 221,\n",
              " 'B-creative-work': 140,\n",
              " 'B-group': 264,\n",
              " 'B-location': 548,\n",
              " 'B-person': 660,\n",
              " 'B-product': 142,\n",
              " 'I-corporation': 46,\n",
              " 'I-creative-work': 206,\n",
              " 'I-group': 150,\n",
              " 'I-location': 245,\n",
              " 'I-person': 335,\n",
              " 'I-product': 203,\n",
              " 'O': 59570}"
            ]
          },
          "metadata": {
            "tags": []
          },
          "execution_count": 6
        }
      ]
    },
    {
      "cell_type": "code",
      "metadata": {
        "id": "qHOKE9wOec_2",
        "colab_type": "code",
        "outputId": "6a64428e-d3e9-4117-bb8f-d7318006e7fa",
        "colab": {
          "base_uri": "https://localhost:8080/",
          "height": 34
        }
      },
      "source": [
        "import numpy as np\n",
        "total=0\n",
        "for val in counter.values():\n",
        "  total+=val\n",
        "total"
      ],
      "execution_count": 0,
      "outputs": [
        {
          "output_type": "execute_result",
          "data": {
            "text/plain": [
              "62730"
            ]
          },
          "metadata": {
            "tags": []
          },
          "execution_count": 7
        }
      ]
    },
    {
      "cell_type": "code",
      "metadata": {
        "id": "U7T-kSrleh1r",
        "colab_type": "code",
        "colab": {}
      },
      "source": [
        "# Check how long sentences are so that we can pad them\n",
        "import matplotlib.pyplot as plt\n",
        "%matplotlib inline\n",
        "plt.style.use(\"ggplot\")"
      ],
      "execution_count": 0,
      "outputs": []
    },
    {
      "cell_type": "code",
      "metadata": {
        "id": "sP-4pEb6eigu",
        "colab_type": "code",
        "outputId": "3bcafcba-2115-4c53-8b6e-5f6aa620adb5",
        "colab": {
          "base_uri": "https://localhost:8080/",
          "height": 265
        }
      },
      "source": [
        "plt.hist([len(s.split(\" \")) for s in train_data])\n",
        "plt.show()"
      ],
      "execution_count": 0,
      "outputs": [
        {
          "output_type": "display_data",
          "data": {
            "image/png": "[encoded data removed]",
            "text/plain": [
              "<Figure size 432x288 with 1 Axes>"
            ]
          },
          "metadata": {
            "tags": []
          }
        }
      ]
    },
    {
      "cell_type": "code",
      "metadata": {
        "id": "FmBAUxlsekWw",
        "colab_type": "code",
        "outputId": "a83badce-c146-4fbd-903f-f0c02b4b0bf0",
        "colab": {
          "base_uri": "https://localhost:8080/",
          "height": 265
        }
      },
      "source": [
        "plt.hist([len(s) for s in train_labels])\n",
        "plt.show()"
      ],
      "execution_count": 0,
      "outputs": [
        {
          "output_type": "display_data",
          "data": {
            "image/png": "[encoded data removed]",
            "text/plain": [
              "<Figure size 432x288 with 1 Axes>"
            ]
          },
          "metadata": {
            "tags": []
          }
        }
      ]
    },
    {
      "cell_type": "code",
      "metadata": {
        "id": "p43haoBjemau",
        "colab_type": "code",
        "outputId": "2e13ea84-d338-43b9-e9cb-602a8d3f809c",
        "colab": {
          "base_uri": "https://localhost:8080/",
          "height": 52
        }
      },
      "source": [
        "for i in range(len(train_data)):\n",
        "  if len(train_data[i].split(\" \"))!=len(train_labels[i]):\n",
        "      print(train_data[i])\n",
        "      print(train_labels[i])"
      ],
      "execution_count": 0,
      "outputs": [
        {
          "output_type": "stream",
          "text": [
            "\n",
            "[]\n"
          ],
          "name": "stdout"
        }
      ]
    },
    {
      "cell_type": "code",
      "metadata": {
        "id": "jg016q3Veohu",
        "colab_type": "code",
        "outputId": "adf8e4e8-f2b0-4cfa-aeac-0650cb5da6b1",
        "colab": {
          "base_uri": "https://localhost:8080/",
          "height": 34
        }
      },
      "source": [
        "maxlen = max([len(s.split(\" \")) for s in train_data])\n",
        "print ('Maximum sequence length:', maxlen)"
      ],
      "execution_count": 0,
      "outputs": [
        {
          "output_type": "stream",
          "text": [
            "Maximum sequence length: 41\n"
          ],
          "name": "stdout"
        }
      ]
    },
    {
      "cell_type": "code",
      "metadata": {
        "id": "lSf3BreIeqqL",
        "colab_type": "code",
        "colab": {}
      },
      "source": [
        "max_len=-1\n",
        "max_sent=\"\"\n",
        "for eachsent in train_data:\n",
        "    if len(eachsent.split(\" \"))>max_len:\n",
        "        max_len=len(eachsent.split(\" \"))\n",
        "        max_sent=eachsent"
      ],
      "execution_count": 0,
      "outputs": []
    },
    {
      "cell_type": "code",
      "metadata": {
        "id": "y8jG_KYjesv_",
        "colab_type": "code",
        "outputId": "ec9d2abc-9a73-4fda-ff23-e7b24fb0848f",
        "colab": {
          "base_uri": "https://localhost:8080/",
          "height": 52
        }
      },
      "source": [
        "max_len,max_sent"
      ],
      "execution_count": 0,
      "outputs": [
        {
          "output_type": "execute_result",
          "data": {
            "text/plain": [
              "(41,\n",
              " 're : re : re : re : re : re : re : re : re : re : re : re : Esther Sikkimese is now following me on Twitter ! http://t.co/Z58brwgxFp Thanks a bunch ! 103 January ...')"
            ]
          },
          "metadata": {
            "tags": []
          },
          "execution_count": 14
        }
      ]
    },
    {
      "cell_type": "code",
      "metadata": {
        "id": "4QHdcmIYevyn",
        "colab_type": "code",
        "colab": {}
      },
      "source": [
        "def get_unique_tokens(data):\n",
        "    unique_words=set()\n",
        "    for each_data_point in data:\n",
        "        #print(each_data_point)\n",
        "        for each_word in each_data_point.split(\" \"):\n",
        "            unique_words.add(each_word)\n",
        "    return list(unique_words)"
      ],
      "execution_count": 0,
      "outputs": []
    },
    {
      "cell_type": "code",
      "metadata": {
        "id": "g5kLe_zFewaC",
        "colab_type": "code",
        "colab": {}
      },
      "source": [
        "def get_unique_labels(data):\n",
        "    unique_labels=set()\n",
        "    for each_label in data:\n",
        "      curr_label=each_label\n",
        "      for each_label_point in curr_label:\n",
        "          unique_labels.add(each_label_point)\n",
        "    return list(unique_labels)"
      ],
      "execution_count": 0,
      "outputs": []
    },
    {
      "cell_type": "code",
      "metadata": {
        "id": "WZdjlGQTeyLR",
        "colab_type": "code",
        "colab": {}
      },
      "source": [
        "unique_train_tokens=get_unique_tokens(train_data)"
      ],
      "execution_count": 0,
      "outputs": []
    },
    {
      "cell_type": "code",
      "metadata": {
        "id": "8gdd039Be3DZ",
        "colab_type": "code",
        "colab": {}
      },
      "source": [
        "unique_train_labels=get_unique_labels(train_labels)"
      ],
      "execution_count": 0,
      "outputs": []
    },
    {
      "cell_type": "code",
      "metadata": {
        "id": "4zLFHuSje5Ky",
        "colab_type": "code",
        "outputId": "b7859620-5664-4c13-df0a-6a5465b3e1e4",
        "colab": {
          "base_uri": "https://localhost:8080/",
          "height": 34
        }
      },
      "source": [
        "len(unique_train_tokens),len(unique_train_labels)"
      ],
      "execution_count": 0,
      "outputs": [
        {
          "output_type": "execute_result",
          "data": {
            "text/plain": [
              "(14879, 13)"
            ]
          },
          "metadata": {
            "tags": []
          },
          "execution_count": 19
        }
      ]
    },
    {
      "cell_type": "code",
      "metadata": {
        "id": "ZqrZ9Xxve7H-",
        "colab_type": "code",
        "outputId": "e379cc1b-6735-4025-e6dd-5d6f39066d73",
        "colab": {
          "base_uri": "https://localhost:8080/",
          "height": 243
        }
      },
      "source": [
        "unique_train_labels"
      ],
      "execution_count": 0,
      "outputs": [
        {
          "output_type": "execute_result",
          "data": {
            "text/plain": [
              "['B-person',\n",
              " 'B-product',\n",
              " 'B-location',\n",
              " 'I-creative-work',\n",
              " 'B-corporation',\n",
              " 'I-product',\n",
              " 'O',\n",
              " 'I-corporation',\n",
              " 'I-person',\n",
              " 'I-location',\n",
              " 'I-group',\n",
              " 'B-group',\n",
              " 'B-creative-work']"
            ]
          },
          "metadata": {
            "tags": []
          },
          "execution_count": 20
        }
      ]
    },
    {
      "cell_type": "code",
      "metadata": {
        "id": "6bbxN7S-e86Z",
        "colab_type": "code",
        "colab": {}
      },
      "source": [
        "dict_of_word2idx = {w: i for i, w in enumerate(unique_train_tokens)}\n",
        "dict_of_tag2idx = {t: i for i, t in enumerate(unique_train_labels)}\n",
        "dict_of_idx2word= {i:w for i,w in enumerate(unique_train_tokens)}\n",
        "dict_of_idx2tag=  {i:t for i,t in enumerate(unique_train_labels)}"
      ],
      "execution_count": 0,
      "outputs": []
    },
    {
      "cell_type": "code",
      "metadata": {
        "id": "agejObnme-sZ",
        "colab_type": "code",
        "outputId": "af8f06f0-58e8-40a3-e978-90f48e5ffa93",
        "colab": {
          "base_uri": "https://localhost:8080/",
          "height": 243
        }
      },
      "source": [
        "dict_of_tag2idx"
      ],
      "execution_count": 0,
      "outputs": [
        {
          "output_type": "execute_result",
          "data": {
            "text/plain": [
              "{'B-corporation': 4,\n",
              " 'B-creative-work': 12,\n",
              " 'B-group': 11,\n",
              " 'B-location': 2,\n",
              " 'B-person': 0,\n",
              " 'B-product': 1,\n",
              " 'I-corporation': 7,\n",
              " 'I-creative-work': 3,\n",
              " 'I-group': 10,\n",
              " 'I-location': 9,\n",
              " 'I-person': 8,\n",
              " 'I-product': 5,\n",
              " 'O': 6}"
            ]
          },
          "metadata": {
            "tags": []
          },
          "execution_count": 22
        }
      ]
    },
    {
      "cell_type": "code",
      "metadata": {
        "id": "DAb7xYulfAei",
        "colab_type": "code",
        "colab": {}
      },
      "source": [
        "total_unique_words=len(dict_of_word2idx)\n",
        "dict_of_word2idx['NA']=total_unique_words\n",
        "dict_of_idx2word[total_unique_words]='NA'"
      ],
      "execution_count": 0,
      "outputs": []
    },
    {
      "cell_type": "code",
      "metadata": {
        "id": "opmHb3eufCpY",
        "colab_type": "code",
        "outputId": "01a601b0-4cb0-4ba0-9fcc-c36d7a4ab6d6",
        "colab": {
          "base_uri": "https://localhost:8080/",
          "height": 34
        }
      },
      "source": [
        "len(dict_of_word2idx),len(dict_of_idx2word)"
      ],
      "execution_count": 0,
      "outputs": [
        {
          "output_type": "execute_result",
          "data": {
            "text/plain": [
              "(14880, 14880)"
            ]
          },
          "metadata": {
            "tags": []
          },
          "execution_count": 24
        }
      ]
    },
    {
      "cell_type": "code",
      "metadata": {
        "id": "P1ecrePKfNl0",
        "colab_type": "code",
        "outputId": "4d29ab63-2e83-4a7c-f622-6ae731b30d76",
        "colab": {
          "base_uri": "https://localhost:8080/",
          "height": 396
        }
      },
      "source": [
        "import torch\n",
        "from torch.optim import Adam\n",
        "from torch.utils.data import TensorDataset, DataLoader, RandomSampler, SequentialSampler\n",
        "from keras.preprocessing.sequence import pad_sequences\n",
        "!pip install pytorch-pretrained-bert\n",
        "from sklearn.model_selection import train_test_split\n",
        "from pytorch_pretrained_bert import BertTokenizer, BertConfig\n",
        "from pytorch_pretrained_bert import BertForTokenClassification, BertAdam"
      ],
      "execution_count": 0,
      "outputs": [
        {
          "output_type": "stream",
          "text": [
            "Using TensorFlow backend.\n"
          ],
          "name": "stderr"
        },
        {
          "output_type": "display_data",
          "data": {
            "text/html": [
              "<p style=\"color: red;\">\n",
              "The default version of TensorFlow in Colab will soon switch to TensorFlow 2.x.<br>\n",
              "We recommend you <a href=\"https://www.tensorflow.org/guide/migrate\" target=\"_blank\">upgrade</a> now \n",
              "or ensure your notebook will continue to use TensorFlow 1.x via the <code>%tensorflow_version 1.x</code> magic:\n",
              "<a href=\"https://colab.research.google.com/notebooks/tensorflow_version.ipynb\" target=\"_blank\">more info</a>.</p>\n"
            ],
            "text/plain": [
              "<IPython.core.display.HTML object>"
            ]
          },
          "metadata": {
            "tags": []
          }
        },
        {
          "output_type": "stream",
          "text": [
            "Requirement already satisfied: pytorch-pretrained-bert in /usr/local/lib/python3.6/dist-packages (0.6.2)\n",
            "Requirement already satisfied: regex in /usr/local/lib/python3.6/dist-packages (from pytorch-pretrained-bert) (2019.11.1)\n",
            "Requirement already satisfied: numpy in /usr/local/lib/python3.6/dist-packages (from pytorch-pretrained-bert) (1.17.4)\n",
            "Requirement already satisfied: boto3 in /usr/local/lib/python3.6/dist-packages (from pytorch-pretrained-bert) (1.10.17)\n",
            "Requirement already satisfied: torch>=0.4.1 in /usr/local/lib/python3.6/dist-packages (from pytorch-pretrained-bert) (1.3.1)\n",
            "Requirement already satisfied: tqdm in /usr/local/lib/python3.6/dist-packages (from pytorch-pretrained-bert) (4.28.1)\n",
            "Requirement already satisfied: requests in /usr/local/lib/python3.6/dist-packages (from pytorch-pretrained-bert) (2.21.0)\n",
            "Requirement already satisfied: s3transfer<0.3.0,>=0.2.0 in /usr/local/lib/python3.6/dist-packages (from boto3->pytorch-pretrained-bert) (0.2.1)\n",
            "Requirement already satisfied: jmespath<1.0.0,>=0.7.1 in /usr/local/lib/python3.6/dist-packages (from boto3->pytorch-pretrained-bert) (0.9.4)\n",
            "Requirement already satisfied: botocore<1.14.0,>=1.13.17 in /usr/local/lib/python3.6/dist-packages (from boto3->pytorch-pretrained-bert) (1.13.17)\n",
            "Requirement already satisfied: chardet<3.1.0,>=3.0.2 in /usr/local/lib/python3.6/dist-packages (from requests->pytorch-pretrained-bert) (3.0.4)\n",
            "Requirement already satisfied: urllib3<1.25,>=1.21.1 in /usr/local/lib/python3.6/dist-packages (from requests->pytorch-pretrained-bert) (1.24.3)\n",
            "Requirement already satisfied: idna<2.9,>=2.5 in /usr/local/lib/python3.6/dist-packages (from requests->pytorch-pretrained-bert) (2.8)\n",
            "Requirement already satisfied: certifi>=2017.4.17 in /usr/local/lib/python3.6/dist-packages (from requests->pytorch-pretrained-bert) (2019.9.11)\n",
            "Requirement already satisfied: docutils<0.16,>=0.10 in /usr/local/lib/python3.6/dist-packages (from botocore<1.14.0,>=1.13.17->boto3->pytorch-pretrained-bert) (0.15.2)\n",
            "Requirement already satisfied: python-dateutil<2.8.1,>=2.1; python_version >= \"2.7\" in /usr/local/lib/python3.6/dist-packages (from botocore<1.14.0,>=1.13.17->boto3->pytorch-pretrained-bert) (2.6.1)\n",
            "Requirement already satisfied: six>=1.5 in /usr/local/lib/python3.6/dist-packages (from python-dateutil<2.8.1,>=2.1; python_version >= \"2.7\"->botocore<1.14.0,>=1.13.17->boto3->pytorch-pretrained-bert) (1.12.0)\n"
          ],
          "name": "stdout"
        }
      ]
    },
    {
      "cell_type": "code",
      "metadata": {
        "id": "Ya8PvtEJfg2P",
        "colab_type": "code",
        "colab": {}
      },
      "source": [
        "MAX_LEN =max_len\n",
        "bs = 32"
      ],
      "execution_count": 0,
      "outputs": []
    },
    {
      "cell_type": "code",
      "metadata": {
        "id": "PsLS2-mUg_yz",
        "colab_type": "code",
        "colab": {}
      },
      "source": [
        "device = torch.device(\"cuda\" if torch.cuda.is_available() else \"cpu\")\n",
        "n_gpu = torch.cuda.device_count()"
      ],
      "execution_count": 0,
      "outputs": []
    },
    {
      "cell_type": "code",
      "metadata": {
        "id": "WVsCOTCihHgf",
        "colab_type": "code",
        "outputId": "2276f36d-b5c0-469c-d8fa-3cb7562abddd",
        "colab": {
          "base_uri": "https://localhost:8080/",
          "height": 34
        }
      },
      "source": [
        "n_gpu"
      ],
      "execution_count": 0,
      "outputs": [
        {
          "output_type": "execute_result",
          "data": {
            "text/plain": [
              "1"
            ]
          },
          "metadata": {
            "tags": []
          },
          "execution_count": 28
        }
      ]
    },
    {
      "cell_type": "code",
      "metadata": {
        "id": "Ys1WNa4ThMzt",
        "colab_type": "code",
        "colab": {}
      },
      "source": [
        "tokenizer = BertTokenizer.from_pretrained('bert-base-uncased', do_lower_case=True)"
      ],
      "execution_count": 0,
      "outputs": []
    },
    {
      "cell_type": "code",
      "metadata": {
        "id": "dZqqg-wAhqdk",
        "colab_type": "code",
        "outputId": "0806046b-adbb-402e-dca7-79e2d1c35a4c",
        "colab": {
          "base_uri": "https://localhost:8080/",
          "height": 54
        }
      },
      "source": [
        "tokenized_texts = [tokenizer.tokenize(sent) for sent in train_data]\n",
        "print(tokenized_texts[0])"
      ],
      "execution_count": 0,
      "outputs": [
        {
          "output_type": "stream",
          "text": [
            "['@', 'paul', '##walk', 'it', \"'\", 's', 'the', 'view', 'from', 'where', 'i', \"'\", 'm', 'living', 'for', 'two', 'weeks', '.', 'empire', 'state', 'building', '=', 'es', '##b', '.', 'pretty', 'bad', 'storm', 'here', 'last', 'evening', '.']\n"
          ],
          "name": "stdout"
        }
      ]
    },
    {
      "cell_type": "code",
      "metadata": {
        "id": "t8bzylanh5zW",
        "colab_type": "code",
        "colab": {}
      },
      "source": [
        "input_ids = pad_sequences([tokenizer.convert_tokens_to_ids(txt) for txt in tokenized_texts],\n",
        "                          maxlen=MAX_LEN, dtype=\"long\", truncating=\"post\", padding=\"post\")"
      ],
      "execution_count": 0,
      "outputs": []
    },
    {
      "cell_type": "code",
      "metadata": {
        "id": "M4WqDo9Riy_u",
        "colab_type": "code",
        "outputId": "89446693-aa30-4c66-f56c-aca6d7969435",
        "colab": {
          "base_uri": "https://localhost:8080/",
          "height": 34
        }
      },
      "source": [
        "input_ids.shape"
      ],
      "execution_count": 0,
      "outputs": [
        {
          "output_type": "execute_result",
          "data": {
            "text/plain": [
              "(3395, 41)"
            ]
          },
          "metadata": {
            "tags": []
          },
          "execution_count": 32
        }
      ]
    },
    {
      "cell_type": "code",
      "metadata": {
        "id": "GBSrQgHbi2Iw",
        "colab_type": "code",
        "outputId": "817f899d-56ad-4ff3-c13b-4f9211d8d928",
        "colab": {
          "base_uri": "https://localhost:8080/",
          "height": 104
        }
      },
      "source": [
        "input_ids[0]"
      ],
      "execution_count": 0,
      "outputs": [
        {
          "output_type": "execute_result",
          "data": {
            "text/plain": [
              "array([ 1030,  2703, 17122,  2009,  1005,  1055,  1996,  3193,  2013,\n",
              "        2073,  1045,  1005,  1049,  2542,  2005,  2048,  3134,  1012,\n",
              "        3400,  2110,  2311,  1027,  9686,  2497,  1012,  3492,  2919,\n",
              "        4040,  2182,  2197,  3944,  1012,     0,     0,     0,     0,\n",
              "           0,     0,     0,     0,     0])"
            ]
          },
          "metadata": {
            "tags": []
          },
          "execution_count": 33
        }
      ]
    },
    {
      "cell_type": "code",
      "metadata": {
        "id": "3qhPFQT4i5Pf",
        "colab_type": "code",
        "colab": {}
      },
      "source": [
        "tags = pad_sequences([[dict_of_tag2idx[l] if dict_of_tag2idx.get(l) !=None else dict_of_tag2idx['NA'] for l in lab] for lab in train_labels],\n",
        "                     maxlen=MAX_LEN, value=dict_of_tag2idx[\"O\"], padding=\"post\",\n",
        "                     dtype=\"long\", truncating=\"post\")"
      ],
      "execution_count": 0,
      "outputs": []
    },
    {
      "cell_type": "code",
      "metadata": {
        "id": "GrckhOx3kT8D",
        "colab_type": "code",
        "outputId": "6e60da9d-d8c7-4aeb-9a40-49f9c02e76f6",
        "colab": {
          "base_uri": "https://localhost:8080/",
          "height": 243
        }
      },
      "source": [
        "dict_of_tag2idx"
      ],
      "execution_count": 0,
      "outputs": [
        {
          "output_type": "execute_result",
          "data": {
            "text/plain": [
              "{'B-corporation': 4,\n",
              " 'B-creative-work': 12,\n",
              " 'B-group': 11,\n",
              " 'B-location': 2,\n",
              " 'B-person': 0,\n",
              " 'B-product': 1,\n",
              " 'I-corporation': 7,\n",
              " 'I-creative-work': 3,\n",
              " 'I-group': 10,\n",
              " 'I-location': 9,\n",
              " 'I-person': 8,\n",
              " 'I-product': 5,\n",
              " 'O': 6}"
            ]
          },
          "metadata": {
            "tags": []
          },
          "execution_count": 35
        }
      ]
    },
    {
      "cell_type": "code",
      "metadata": {
        "id": "_CukgTLXkQoV",
        "colab_type": "code",
        "outputId": "948f028d-afc2-4e4e-ff02-c526053ce8d9",
        "colab": {
          "base_uri": "https://localhost:8080/",
          "height": 52
        }
      },
      "source": [
        "tags[0]"
      ],
      "execution_count": 0,
      "outputs": [
        {
          "output_type": "execute_result",
          "data": {
            "text/plain": [
              "array([6, 6, 6, 6, 6, 6, 6, 6, 6, 6, 6, 6, 6, 6, 2, 9, 9, 6, 2, 6, 6, 6,\n",
              "       6, 6, 6, 6, 6, 6, 6, 6, 6, 6, 6, 6, 6, 6, 6, 6, 6, 6, 6])"
            ]
          },
          "metadata": {
            "tags": []
          },
          "execution_count": 36
        }
      ]
    },
    {
      "cell_type": "code",
      "metadata": {
        "id": "C1i8JXe3lh_e",
        "colab_type": "code",
        "colab": {}
      },
      "source": [
        "attention_masks = [[float(i>0) for i in ii] for ii in input_ids]"
      ],
      "execution_count": 0,
      "outputs": []
    },
    {
      "cell_type": "code",
      "metadata": {
        "id": "D8DGXbGzlx4O",
        "colab_type": "code",
        "colab": {}
      },
      "source": [
        ""
      ],
      "execution_count": 0,
      "outputs": []
    },
    {
      "cell_type": "code",
      "metadata": {
        "id": "B0yb0Lb2mJZQ",
        "colab_type": "code",
        "outputId": "23fa88d1-8490-459c-9372-579f18bd85fc",
        "colab": {
          "base_uri": "https://localhost:8080/",
          "height": 104
        }
      },
      "source": [
        "input_ids[0]"
      ],
      "execution_count": 0,
      "outputs": [
        {
          "output_type": "execute_result",
          "data": {
            "text/plain": [
              "array([ 1030,  2703, 17122,  2009,  1005,  1055,  1996,  3193,  2013,\n",
              "        2073,  1045,  1005,  1049,  2542,  2005,  2048,  3134,  1012,\n",
              "        3400,  2110,  2311,  1027,  9686,  2497,  1012,  3492,  2919,\n",
              "        4040,  2182,  2197,  3944,  1012,     0,     0,     0,     0,\n",
              "           0,     0,     0,     0,     0])"
            ]
          },
          "metadata": {
            "tags": []
          },
          "execution_count": 38
        }
      ]
    },
    {
      "cell_type": "code",
      "metadata": {
        "id": "VKgbHISypCRm",
        "colab_type": "code",
        "colab": {}
      },
      "source": [
        ""
      ],
      "execution_count": 0,
      "outputs": []
    },
    {
      "cell_type": "code",
      "metadata": {
        "id": "PaG2B09wovv5",
        "colab_type": "code",
        "colab": {}
      },
      "source": [
        "from sklearn.model_selection import train_test_split"
      ],
      "execution_count": 0,
      "outputs": []
    },
    {
      "cell_type": "code",
      "metadata": {
        "id": "GCaq9vxQmOSj",
        "colab_type": "code",
        "colab": {}
      },
      "source": [
        "tr_inputs, val_inputs, tr_tags, val_tags = train_test_split(input_ids, tags,random_state=2018, test_size=0.1)\n",
        "tr_masks, val_masks, _, _ = train_test_split(attention_masks, input_ids,random_state=2018, test_size=0.1)"
      ],
      "execution_count": 0,
      "outputs": []
    },
    {
      "cell_type": "code",
      "metadata": {
        "id": "ufE4ILTBp4A2",
        "colab_type": "code",
        "colab": {}
      },
      "source": [
        "tr_inputs = torch.tensor(tr_inputs)\n",
        "val_inputs = torch.tensor(val_inputs)\n",
        "tr_tags = torch.tensor(tr_tags)\n",
        "val_tags = torch.tensor(val_tags)\n",
        "tr_masks = torch.tensor(tr_masks)\n",
        "val_masks = torch.tensor(val_masks)"
      ],
      "execution_count": 0,
      "outputs": []
    },
    {
      "cell_type": "code",
      "metadata": {
        "id": "_Aw55JGZqEUH",
        "colab_type": "code",
        "colab": {}
      },
      "source": [
        "train_data = TensorDataset(tr_inputs, tr_masks, tr_tags)\n",
        "train_sampler = RandomSampler(train_data)\n",
        "train_dataloader = DataLoader(train_data, sampler=train_sampler, batch_size=bs)\n",
        "\n",
        "valid_data = TensorDataset(val_inputs, val_masks, val_tags)\n",
        "valid_sampler = SequentialSampler(valid_data)\n",
        "valid_dataloader = DataLoader(valid_data, sampler=valid_sampler, batch_size=bs)\n"
      ],
      "execution_count": 0,
      "outputs": []
    },
    {
      "cell_type": "code",
      "metadata": {
        "id": "jR0N4QGAqIda",
        "colab_type": "code",
        "colab": {}
      },
      "source": [
        "model = BertForTokenClassification.from_pretrained(\"bert-base-uncased\", num_labels=len(dict_of_tag2idx))"
      ],
      "execution_count": 0,
      "outputs": []
    },
    {
      "cell_type": "code",
      "metadata": {
        "id": "TpvOO_n0rzFJ",
        "colab_type": "code",
        "colab": {}
      },
      "source": [
        "model.cuda();"
      ],
      "execution_count": 0,
      "outputs": []
    },
    {
      "cell_type": "code",
      "metadata": {
        "id": "z2Pm3eRZqTzf",
        "colab_type": "code",
        "colab": {}
      },
      "source": [
        "FULL_FINETUNING = True\n",
        "if FULL_FINETUNING:\n",
        "    param_optimizer = list(model.named_parameters())\n",
        "    no_decay = ['bias', 'gamma', 'beta']\n",
        "    optimizer_grouped_parameters = [\n",
        "        {'params': [p for n, p in param_optimizer if not any(nd in n for nd in no_decay)],\n",
        "         'weight_decay_rate': 0.01},\n",
        "        {'params': [p for n, p in param_optimizer if any(nd in n for nd in no_decay)],\n",
        "         'weight_decay_rate': 0.0}\n",
        "    ]\n",
        "else:\n",
        "    param_optimizer = list(model.classifier.named_parameters()) \n",
        "    optimizer_grouped_parameters = [{\"params\": [p for n, p in param_optimizer]}]\n",
        "optimizer = Adam(optimizer_grouped_parameters, lr=3e-5)"
      ],
      "execution_count": 0,
      "outputs": []
    },
    {
      "cell_type": "code",
      "metadata": {
        "id": "7ypVsx7rqmDg",
        "colab_type": "code",
        "outputId": "2eb07153-a4cb-4f61-8576-cfafdcac20b5",
        "colab": {
          "base_uri": "https://localhost:8080/",
          "height": 173
        }
      },
      "source": [
        "!pip install seqeval"
      ],
      "execution_count": 0,
      "outputs": [
        {
          "output_type": "stream",
          "text": [
            "Requirement already satisfied: seqeval in /usr/local/lib/python3.6/dist-packages (0.0.12)\n",
            "Requirement already satisfied: Keras>=2.2.4 in /usr/local/lib/python3.6/dist-packages (from seqeval) (2.2.5)\n",
            "Requirement already satisfied: numpy>=1.14.0 in /usr/local/lib/python3.6/dist-packages (from seqeval) (1.17.4)\n",
            "Requirement already satisfied: keras-applications>=1.0.8 in /usr/local/lib/python3.6/dist-packages (from Keras>=2.2.4->seqeval) (1.0.8)\n",
            "Requirement already satisfied: six>=1.9.0 in /usr/local/lib/python3.6/dist-packages (from Keras>=2.2.4->seqeval) (1.12.0)\n",
            "Requirement already satisfied: keras-preprocessing>=1.1.0 in /usr/local/lib/python3.6/dist-packages (from Keras>=2.2.4->seqeval) (1.1.0)\n",
            "Requirement already satisfied: pyyaml in /usr/local/lib/python3.6/dist-packages (from Keras>=2.2.4->seqeval) (3.13)\n",
            "Requirement already satisfied: scipy>=0.14 in /usr/local/lib/python3.6/dist-packages (from Keras>=2.2.4->seqeval) (1.3.2)\n",
            "Requirement already satisfied: h5py in /usr/local/lib/python3.6/dist-packages (from Keras>=2.2.4->seqeval) (2.8.0)\n"
          ],
          "name": "stdout"
        }
      ]
    },
    {
      "cell_type": "code",
      "metadata": {
        "id": "FAQBFrLaqbLG",
        "colab_type": "code",
        "colab": {}
      },
      "source": [
        "from seqeval.metrics import f1_score\n",
        "\n",
        "def flat_accuracy(preds, labels):\n",
        "    pred_flat = np.argmax(preds, axis=2).flatten()\n",
        "    labels_flat = labels.flatten()\n",
        "    return np.sum(pred_flat == labels_flat) / len(labels_flat)"
      ],
      "execution_count": 0,
      "outputs": []
    },
    {
      "cell_type": "code",
      "metadata": {
        "id": "41nJzU-DrFPq",
        "colab_type": "code",
        "colab": {}
      },
      "source": [
        "from tqdm import tqdm, trange"
      ],
      "execution_count": 0,
      "outputs": []
    },
    {
      "cell_type": "code",
      "metadata": {
        "id": "1S8EiM6yqoaj",
        "colab_type": "code",
        "outputId": "6aa6aa5c-fb36-4fe7-9fb6-10274a77d3c7",
        "colab": {
          "base_uri": "https://localhost:8080/",
          "height": 1000
        }
      },
      "source": [
        "\n",
        "epochs = 150\n",
        "max_grad_norm = 0.5\n",
        "\n",
        "for _ in trange(epochs, desc=\"Epoch\"):\n",
        "    # TRAIN loop\n",
        "    model.train()\n",
        "    tr_loss = 0\n",
        "    nb_tr_examples, nb_tr_steps = 0, 0\n",
        "    for step, batch in enumerate(train_dataloader):\n",
        "        # add batch to gpu\n",
        "        batch = tuple(t.to(device) for t in batch)\n",
        "        b_input_ids, b_input_mask, b_labels = batch\n",
        "        # forward pass\n",
        "        loss = model(b_input_ids, token_type_ids=None,\n",
        "                     attention_mask=b_input_mask, labels=b_labels)\n",
        "        # backward pass\n",
        "        loss.backward()\n",
        "        # track train loss\n",
        "        tr_loss += loss.item()\n",
        "        nb_tr_examples += b_input_ids.size(0)\n",
        "        nb_tr_steps += 1\n",
        "        # gradient clipping\n",
        "        torch.nn.utils.clip_grad_norm_(parameters=model.parameters(), max_norm=max_grad_norm)\n",
        "        # update parameters\n",
        "        optimizer.step()\n",
        "        model.zero_grad()\n",
        "    # print train loss per epoch\n",
        "    print(\"Train loss: {}\".format(tr_loss/nb_tr_steps))\n",
        "    # VALIDATION on validation set\n",
        "    model.eval()\n",
        "    eval_loss, eval_accuracy = 0, 0\n",
        "    nb_eval_steps, nb_eval_examples = 0, 0\n",
        "    predictions , true_labels = [], []\n",
        "    for batch in valid_dataloader:\n",
        "        batch = tuple(t.to(device) for t in batch)\n",
        "        b_input_ids, b_input_mask, b_labels = batch\n",
        "        \n",
        "        with torch.no_grad():\n",
        "            tmp_eval_loss = model(b_input_ids, token_type_ids=None,\n",
        "                                  attention_mask=b_input_mask, labels=b_labels)\n",
        "            logits = model(b_input_ids, token_type_ids=None,\n",
        "                           attention_mask=b_input_mask)\n",
        "        logits = logits.detach().cpu().numpy()\n",
        "        label_ids = b_labels.to('cpu').numpy()\n",
        "        predictions.extend([list(p) for p in np.argmax(logits, axis=2)])\n",
        "        true_labels.append(label_ids)\n",
        "        \n",
        "        tmp_eval_accuracy = flat_accuracy(logits, label_ids)\n",
        "        \n",
        "        eval_loss += tmp_eval_loss.mean().item()\n",
        "        eval_accuracy += tmp_eval_accuracy\n",
        "        \n",
        "        nb_eval_examples += b_input_ids.size(0)\n",
        "        nb_eval_steps += 1\n",
        "    eval_loss = eval_loss/nb_eval_steps\n",
        "    print(\"Validation loss: {}\".format(eval_loss))\n",
        "    print(\"Validation Accuracy: {}\".format(eval_accuracy/nb_eval_steps))\n",
        "    pred_tags = [unique_train_labels[p_i] for p in predictions for p_i in p]\n",
        "    valid_tags = [unique_train_labels[l_ii] for l in true_labels for l_i in l for l_ii in l_i]\n",
        "    print(\"F1-Score: {}\".format(f1_score(pred_tags, valid_tags)))\n",
        "    "
      ],
      "execution_count": 49,
      "outputs": [
        {
          "output_type": "stream",
          "text": [
            "\rEpoch:   0%|          | 0/150 [00:00<?, ?it/s]"
          ],
          "name": "stderr"
        },
        {
          "output_type": "stream",
          "text": [
            "Train loss: 0.2568814486730844\n"
          ],
          "name": "stdout"
        },
        {
          "output_type": "stream",
          "text": [
            "\rEpoch:   1%|          | 1/150 [00:57<2:22:59, 57.58s/it]"
          ],
          "name": "stderr"
        },
        {
          "output_type": "stream",
          "text": [
            "Validation loss: 0.1790371076627211\n",
            "Validation Accuracy: 0.9762749445676274\n",
            "F1-Score: 0\n",
            "Train loss: 0.16283439278292158\n"
          ],
          "name": "stdout"
        },
        {
          "output_type": "stream",
          "text": [
            "\rEpoch:   1%|▏         | 2/150 [01:55<2:22:23, 57.73s/it]"
          ],
          "name": "stderr"
        },
        {
          "output_type": "stream",
          "text": [
            "Validation loss: 0.14851226589896463\n",
            "Validation Accuracy: 0.9765521064301551\n",
            "F1-Score: 0\n",
            "Train loss: 0.1313689424811552\n"
          ],
          "name": "stdout"
        },
        {
          "output_type": "stream",
          "text": [
            "\rEpoch:   2%|▏         | 3/150 [02:54<2:21:58, 57.95s/it]"
          ],
          "name": "stderr"
        },
        {
          "output_type": "stream",
          "text": [
            "Validation loss: 0.13877380097454245\n",
            "Validation Accuracy: 0.9763026607538802\n",
            "F1-Score: 0.03404255319148936\n",
            "Train loss: 0.11061987436066072\n"
          ],
          "name": "stdout"
        },
        {
          "output_type": "stream",
          "text": [
            "\rEpoch:   3%|▎         | 4/150 [03:52<2:21:17, 58.07s/it]"
          ],
          "name": "stderr"
        },
        {
          "output_type": "stream",
          "text": [
            "Validation loss: 0.13792978565801273\n",
            "Validation Accuracy: 0.9747089800443458\n",
            "F1-Score: 0.06578947368421054\n",
            "Train loss: 0.09456535494731118\n"
          ],
          "name": "stdout"
        },
        {
          "output_type": "stream",
          "text": [
            "\rEpoch:   3%|▎         | 5/150 [04:51<2:20:45, 58.25s/it]"
          ],
          "name": "stderr"
        },
        {
          "output_type": "stream",
          "text": [
            "Validation loss: 0.13843102888627487\n",
            "Validation Accuracy: 0.9764828159645232\n",
            "F1-Score: 0.10830324909747294\n",
            "Train loss: 0.08342197865325336\n"
          ],
          "name": "stdout"
        },
        {
          "output_type": "stream",
          "text": [
            "\rEpoch:   4%|▍         | 6/150 [05:49<2:20:02, 58.35s/it]"
          ],
          "name": "stderr"
        },
        {
          "output_type": "stream",
          "text": [
            "Validation loss: 0.13579029860821637\n",
            "Validation Accuracy: 0.9744318181818182\n",
            "F1-Score: 0.1529051987767584\n",
            "Train loss: 0.07242248063751806\n"
          ],
          "name": "stdout"
        },
        {
          "output_type": "stream",
          "text": [
            "\rEpoch:   5%|▍         | 7/150 [06:48<2:19:01, 58.33s/it]"
          ],
          "name": "stderr"
        },
        {
          "output_type": "stream",
          "text": [
            "Validation loss: 0.14166194810108704\n",
            "Validation Accuracy: 0.9746674057649668\n",
            "F1-Score: 0.14484679665738162\n",
            "Train loss: 0.06331663578748703\n"
          ],
          "name": "stdout"
        },
        {
          "output_type": "stream",
          "text": [
            "\rEpoch:   5%|▌         | 8/150 [07:46<2:18:02, 58.33s/it]"
          ],
          "name": "stderr"
        },
        {
          "output_type": "stream",
          "text": [
            "Validation loss: 0.1424813141877001\n",
            "Validation Accuracy: 0.9726995565410199\n",
            "F1-Score: 0.1329923273657289\n",
            "Train loss: 0.058875622208385416\n"
          ],
          "name": "stdout"
        },
        {
          "output_type": "stream",
          "text": [
            "\rEpoch:   6%|▌         | 9/150 [08:44<2:17:09, 58.37s/it]"
          ],
          "name": "stderr"
        },
        {
          "output_type": "stream",
          "text": [
            "Validation loss: 0.15062499181790787\n",
            "Validation Accuracy: 0.9751940133037695\n",
            "F1-Score: 0.15384615384615383\n",
            "Train loss: 0.05214980757834079\n"
          ],
          "name": "stdout"
        },
        {
          "output_type": "stream",
          "text": [
            "\rEpoch:   7%|▋         | 10/150 [09:43<2:16:10, 58.36s/it]"
          ],
          "name": "stderr"
        },
        {
          "output_type": "stream",
          "text": [
            "Validation loss: 0.15043232048099692\n",
            "Validation Accuracy: 0.9728935698447895\n",
            "F1-Score: 0.16080402010050251\n",
            "Train loss: 0.04654768314988663\n"
          ],
          "name": "stdout"
        },
        {
          "output_type": "stream",
          "text": [
            "\rEpoch:   7%|▋         | 11/150 [10:41<2:15:09, 58.34s/it]"
          ],
          "name": "stderr"
        },
        {
          "output_type": "stream",
          "text": [
            "Validation loss: 0.1528525257652456\n",
            "Validation Accuracy: 0.9758453436807094\n",
            "F1-Score: 0.16909620991253643\n",
            "Train loss: 0.03980513080023229\n"
          ],
          "name": "stdout"
        },
        {
          "output_type": "stream",
          "text": [
            "\rEpoch:   8%|▊         | 12/150 [11:40<2:14:21, 58.42s/it]"
          ],
          "name": "stderr"
        },
        {
          "output_type": "stream",
          "text": [
            "Validation loss: 0.16278769143603064\n",
            "Validation Accuracy: 0.9743625277161864\n",
            "F1-Score: 0.20212765957446807\n",
            "Train loss: 0.03655357941655287\n"
          ],
          "name": "stdout"
        },
        {
          "output_type": "stream",
          "text": [
            "\rEpoch:   9%|▊         | 13/150 [12:38<2:13:08, 58.31s/it]"
          ],
          "name": "stderr"
        },
        {
          "output_type": "stream",
          "text": [
            "Validation loss: 0.16256924244490537\n",
            "Validation Accuracy: 0.9708841463414634\n",
            "F1-Score: 0.1835294117647059\n",
            "Train loss: 0.03239744076078447\n"
          ],
          "name": "stdout"
        },
        {
          "output_type": "stream",
          "text": [
            "\rEpoch:   9%|▉         | 14/150 [13:36<2:12:02, 58.25s/it]"
          ],
          "name": "stderr"
        },
        {
          "output_type": "stream",
          "text": [
            "Validation loss: 0.1814309534701434\n",
            "Validation Accuracy: 0.9751108647450111\n",
            "F1-Score: 0.18696883852691218\n",
            "Train loss: 0.02740413131202028\n"
          ],
          "name": "stdout"
        },
        {
          "output_type": "stream",
          "text": [
            "\rEpoch:  10%|█         | 15/150 [14:34<2:11:12, 58.31s/it]"
          ],
          "name": "stderr"
        },
        {
          "output_type": "stream",
          "text": [
            "Validation loss: 0.18304306878284973\n",
            "Validation Accuracy: 0.9723946784922396\n",
            "F1-Score: 0.17525773195876287\n",
            "Train loss: 0.0239017048831253\n"
          ],
          "name": "stdout"
        },
        {
          "output_type": "stream",
          "text": [
            "\rEpoch:  11%|█         | 16/150 [15:32<2:10:13, 58.31s/it]"
          ],
          "name": "stderr"
        },
        {
          "output_type": "stream",
          "text": [
            "Validation loss: 0.19517738913947885\n",
            "Validation Accuracy: 0.9722006651884701\n",
            "F1-Score: 0.20772946859903382\n",
            "Train loss: 0.020783257840472896\n"
          ],
          "name": "stdout"
        },
        {
          "output_type": "stream",
          "text": [
            "\rEpoch:  11%|█▏        | 17/150 [16:31<2:09:18, 58.33s/it]"
          ],
          "name": "stderr"
        },
        {
          "output_type": "stream",
          "text": [
            "Validation loss: 0.1984020254828713\n",
            "Validation Accuracy: 0.971480044345898\n",
            "F1-Score: 0.1691542288557214\n",
            "Train loss: 0.018304544792044908\n"
          ],
          "name": "stdout"
        },
        {
          "output_type": "stream",
          "text": [
            "\rEpoch:  12%|█▏        | 18/150 [17:29<2:08:23, 58.36s/it]"
          ],
          "name": "stderr"
        },
        {
          "output_type": "stream",
          "text": [
            "Validation loss: 0.20460394566709345\n",
            "Validation Accuracy: 0.9727272727272728\n",
            "F1-Score: 0.22942643391521197\n",
            "Train loss: 0.017665240515877183\n"
          ],
          "name": "stdout"
        },
        {
          "output_type": "stream",
          "text": [
            "\rEpoch:  13%|█▎        | 19/150 [18:27<2:07:19, 58.32s/it]"
          ],
          "name": "stderr"
        },
        {
          "output_type": "stream",
          "text": [
            "Validation loss: 0.2184004472060637\n",
            "Validation Accuracy: 0.9696369179600887\n",
            "F1-Score: 0.17488789237668162\n",
            "Train loss: 0.015498408711816106\n"
          ],
          "name": "stdout"
        },
        {
          "output_type": "stream",
          "text": [
            "\rEpoch:  13%|█▎        | 20/150 [19:26<2:06:30, 58.39s/it]"
          ],
          "name": "stderr"
        },
        {
          "output_type": "stream",
          "text": [
            "Validation loss: 0.20640082860534842\n",
            "Validation Accuracy: 0.9700665188470068\n",
            "F1-Score: 0.17840375586854462\n",
            "Train loss: 0.014321829468220434\n"
          ],
          "name": "stdout"
        },
        {
          "output_type": "stream",
          "text": [
            "\rEpoch:  14%|█▍        | 21/150 [20:24<2:05:12, 58.24s/it]"
          ],
          "name": "stderr"
        },
        {
          "output_type": "stream",
          "text": [
            "Validation loss: 0.21672545102509586\n",
            "Validation Accuracy: 0.9681679600886919\n",
            "F1-Score: 0.1718061674008811\n",
            "Train loss: 0.013138124246324878\n"
          ],
          "name": "stdout"
        },
        {
          "output_type": "stream",
          "text": [
            "\rEpoch:  15%|█▍        | 22/150 [21:22<2:04:22, 58.30s/it]"
          ],
          "name": "stderr"
        },
        {
          "output_type": "stream",
          "text": [
            "Validation loss: 0.21501443806019696\n",
            "Validation Accuracy: 0.9713414634146342\n",
            "F1-Score: 0.17647058823529413\n",
            "Train loss: 0.010727945387770887\n"
          ],
          "name": "stdout"
        },
        {
          "output_type": "stream",
          "text": [
            "\rEpoch:  15%|█▌        | 23/150 [22:21<2:03:26, 58.32s/it]"
          ],
          "name": "stderr"
        },
        {
          "output_type": "stream",
          "text": [
            "Validation loss: 0.22398356416008688\n",
            "Validation Accuracy: 0.9689024390243902\n",
            "F1-Score: 0.19153674832962136\n",
            "Train loss: 0.0105529102863026\n"
          ],
          "name": "stdout"
        },
        {
          "output_type": "stream",
          "text": [
            "\rEpoch:  16%|█▌        | 24/150 [23:19<2:02:28, 58.33s/it]"
          ],
          "name": "stderr"
        },
        {
          "output_type": "stream",
          "text": [
            "Validation loss: 0.20627407865090805\n",
            "Validation Accuracy: 0.9728519955654101\n",
            "F1-Score: 0.171875\n",
            "Train loss: 0.009418662903650935\n"
          ],
          "name": "stdout"
        },
        {
          "output_type": "stream",
          "text": [
            "\rEpoch:  17%|█▋        | 25/150 [24:17<2:01:12, 58.18s/it]"
          ],
          "name": "stderr"
        },
        {
          "output_type": "stream",
          "text": [
            "Validation loss: 0.22578957270492206\n",
            "Validation Accuracy: 0.9728797117516629\n",
            "F1-Score: 0.20603015075376885\n",
            "Train loss: 0.0086470936121259\n"
          ],
          "name": "stdout"
        },
        {
          "output_type": "stream",
          "text": [
            "\rEpoch:  17%|█▋        | 26/150 [25:15<2:00:12, 58.16s/it]"
          ],
          "name": "stderr"
        },
        {
          "output_type": "stream",
          "text": [
            "Validation loss: 0.24374755675142462\n",
            "Validation Accuracy: 0.9676413525498891\n",
            "F1-Score: 0.1681034482758621\n",
            "Train loss: 0.008561969907229164\n"
          ],
          "name": "stdout"
        },
        {
          "output_type": "stream",
          "text": [
            "\rEpoch:  18%|█▊        | 27/150 [26:13<1:59:09, 58.12s/it]"
          ],
          "name": "stderr"
        },
        {
          "output_type": "stream",
          "text": [
            "Validation loss: 0.2329248528588902\n",
            "Validation Accuracy: 0.9716601995565411\n",
            "F1-Score: 0.1717171717171717\n",
            "Train loss: 0.007364822795049501\n"
          ],
          "name": "stdout"
        },
        {
          "output_type": "stream",
          "text": [
            "\rEpoch:  19%|█▊        | 28/150 [27:11<1:58:16, 58.17s/it]"
          ],
          "name": "stderr"
        },
        {
          "output_type": "stream",
          "text": [
            "Validation loss: 0.2333314594897357\n",
            "Validation Accuracy: 0.972020509977827\n",
            "F1-Score: 0.2079207920792079\n",
            "Train loss: 0.006706075039195032\n"
          ],
          "name": "stdout"
        },
        {
          "output_type": "stream",
          "text": [
            "\rEpoch:  19%|█▉        | 29/150 [28:10<1:57:31, 58.28s/it]"
          ],
          "name": "stderr"
        },
        {
          "output_type": "stream",
          "text": [
            "Validation loss: 0.2379989962686192\n",
            "Validation Accuracy: 0.9698170731707315\n",
            "F1-Score: 0.17011494252873563\n",
            "Train loss: 0.007426031805152888\n"
          ],
          "name": "stdout"
        },
        {
          "output_type": "stream",
          "text": [
            "\rEpoch:  20%|██        | 30/150 [29:08<1:56:23, 58.19s/it]"
          ],
          "name": "stderr"
        },
        {
          "output_type": "stream",
          "text": [
            "Validation loss: 0.23201302642172034\n",
            "Validation Accuracy: 0.9723253880266074\n",
            "F1-Score: 0.17391304347826084\n",
            "Train loss: 0.005518002653843723\n"
          ],
          "name": "stdout"
        },
        {
          "output_type": "stream",
          "text": [
            "\rEpoch:  21%|██        | 31/150 [30:06<1:55:11, 58.08s/it]"
          ],
          "name": "stderr"
        },
        {
          "output_type": "stream",
          "text": [
            "Validation loss: 0.2512319440191442\n",
            "Validation Accuracy: 0.9695537694013303\n",
            "F1-Score: 0.17897091722595077\n",
            "Train loss: 0.005647276239263495\n"
          ],
          "name": "stdout"
        },
        {
          "output_type": "stream",
          "text": [
            "\rEpoch:  21%|██▏       | 32/150 [31:04<1:54:19, 58.13s/it]"
          ],
          "name": "stderr"
        },
        {
          "output_type": "stream",
          "text": [
            "Validation loss: 0.25145240263505414\n",
            "Validation Accuracy: 0.971092017738359\n",
            "F1-Score: 0.1948955916473318\n",
            "Train loss: 0.005782491590859233\n"
          ],
          "name": "stdout"
        },
        {
          "output_type": "stream",
          "text": [
            "\rEpoch:  22%|██▏       | 33/150 [32:02<1:53:17, 58.10s/it]"
          ],
          "name": "stderr"
        },
        {
          "output_type": "stream",
          "text": [
            "Validation loss: 0.22971427847038617\n",
            "Validation Accuracy: 0.9727134146341464\n",
            "F1-Score: 0.18090452261306533\n",
            "Train loss: 0.004898777576424133\n"
          ],
          "name": "stdout"
        },
        {
          "output_type": "stream",
          "text": [
            "\rEpoch:  23%|██▎       | 34/150 [33:00<1:52:03, 57.96s/it]"
          ],
          "name": "stderr"
        },
        {
          "output_type": "stream",
          "text": [
            "Validation loss: 0.2349076596173373\n",
            "Validation Accuracy: 0.966019955654102\n",
            "F1-Score: 0.15918367346938775\n",
            "Train loss: 0.0046584716146753635\n"
          ],
          "name": "stdout"
        },
        {
          "output_type": "stream",
          "text": [
            "\rEpoch:  23%|██▎       | 35/150 [33:57<1:50:55, 57.87s/it]"
          ],
          "name": "stderr"
        },
        {
          "output_type": "stream",
          "text": [
            "Validation loss: 0.24703576822172513\n",
            "Validation Accuracy: 0.9731845898004434\n",
            "F1-Score: 0.16580310880829016\n",
            "Train loss: 0.004770172157805064\n"
          ],
          "name": "stdout"
        },
        {
          "output_type": "stream",
          "text": [
            "\rEpoch:  24%|██▍       | 36/150 [34:55<1:50:01, 57.90s/it]"
          ],
          "name": "stderr"
        },
        {
          "output_type": "stream",
          "text": [
            "Validation loss: 0.24947453087026422\n",
            "Validation Accuracy: 0.9708009977827051\n",
            "F1-Score: 0.1737089201877934\n",
            "Train loss: 0.00451080590391939\n"
          ],
          "name": "stdout"
        },
        {
          "output_type": "stream",
          "text": [
            "\rEpoch:  25%|██▍       | 37/150 [35:53<1:48:51, 57.80s/it]"
          ],
          "name": "stderr"
        },
        {
          "output_type": "stream",
          "text": [
            "Validation loss: 0.24245220829140057\n",
            "Validation Accuracy: 0.9717156319290464\n",
            "F1-Score: 0.19464720194647203\n",
            "Train loss: 0.0037492500942638194\n"
          ],
          "name": "stdout"
        },
        {
          "output_type": "stream",
          "text": [
            "\rEpoch:  25%|██▌       | 38/150 [36:51<1:47:52, 57.79s/it]"
          ],
          "name": "stderr"
        },
        {
          "output_type": "stream",
          "text": [
            "Validation loss: 0.2529589899561622\n",
            "Validation Accuracy: 0.9703021064301552\n",
            "F1-Score: 0.1513002364066194\n",
            "Train loss: 0.004389068377956089\n"
          ],
          "name": "stdout"
        },
        {
          "output_type": "stream",
          "text": [
            "\rEpoch:  26%|██▌       | 39/150 [37:48<1:46:58, 57.83s/it]"
          ],
          "name": "stderr"
        },
        {
          "output_type": "stream",
          "text": [
            "Validation loss: 0.25434541973200714\n",
            "Validation Accuracy: 0.970800997782705\n",
            "F1-Score: 0.19158878504672894\n",
            "Train loss: 0.0042472129757697985\n"
          ],
          "name": "stdout"
        },
        {
          "output_type": "stream",
          "text": [
            "\rEpoch:  27%|██▋       | 40/150 [38:47<1:46:13, 57.94s/it]"
          ],
          "name": "stderr"
        },
        {
          "output_type": "stream",
          "text": [
            "Validation loss: 0.25194209949536756\n",
            "Validation Accuracy: 0.9700526607538802\n",
            "F1-Score: 0.17551963048498845\n",
            "Train loss: 0.0032038548708139083\n"
          ],
          "name": "stdout"
        },
        {
          "output_type": "stream",
          "text": [
            "\rEpoch:  27%|██▋       | 41/150 [39:45<1:45:13, 57.93s/it]"
          ],
          "name": "stderr"
        },
        {
          "output_type": "stream",
          "text": [
            "Validation loss: 0.25205767154693604\n",
            "Validation Accuracy: 0.9728658536585367\n",
            "F1-Score: 0.18952618453865339\n",
            "Train loss: 0.00304484463352613\n"
          ],
          "name": "stdout"
        },
        {
          "output_type": "stream",
          "text": [
            "\rEpoch:  28%|██▊       | 42/150 [40:42<1:44:09, 57.87s/it]"
          ],
          "name": "stderr"
        },
        {
          "output_type": "stream",
          "text": [
            "Validation loss: 0.2544009644876827\n",
            "Validation Accuracy: 0.9703575388026607\n",
            "F1-Score: 0.19413092550790068\n",
            "Train loss: 0.002994903628329363\n"
          ],
          "name": "stdout"
        },
        {
          "output_type": "stream",
          "text": [
            "\rEpoch:  29%|██▊       | 43/150 [41:40<1:43:19, 57.94s/it]"
          ],
          "name": "stderr"
        },
        {
          "output_type": "stream",
          "text": [
            "Validation loss: 0.2676128839904612\n",
            "Validation Accuracy: 0.973059866962306\n",
            "F1-Score: 0.1837270341207349\n",
            "Train loss: 0.0031879189593079595\n"
          ],
          "name": "stdout"
        },
        {
          "output_type": "stream",
          "text": [
            "\rEpoch:  29%|██▉       | 44/150 [42:38<1:42:13, 57.86s/it]"
          ],
          "name": "stderr"
        },
        {
          "output_type": "stream",
          "text": [
            "Validation loss: 0.25811529430476104\n",
            "Validation Accuracy: 0.9714661862527717\n",
            "F1-Score: 0.17821782178217824\n",
            "Train loss: 0.0031843826152453403\n"
          ],
          "name": "stdout"
        },
        {
          "output_type": "stream",
          "text": [
            "\rEpoch:  30%|███       | 45/150 [43:36<1:41:02, 57.74s/it]"
          ],
          "name": "stderr"
        },
        {
          "output_type": "stream",
          "text": [
            "Validation loss: 0.2673184289173646\n",
            "Validation Accuracy: 0.9712721729490021\n",
            "F1-Score: 0.15880893300248142\n",
            "Train loss: 0.0031467792684149267\n"
          ],
          "name": "stdout"
        },
        {
          "output_type": "stream",
          "text": [
            "\rEpoch:  31%|███       | 46/150 [44:33<1:40:03, 57.73s/it]"
          ],
          "name": "stderr"
        },
        {
          "output_type": "stream",
          "text": [
            "Validation loss: 0.24947072701020676\n",
            "Validation Accuracy: 0.9698863636363637\n",
            "F1-Score: 0.15827338129496404\n",
            "Train loss: 0.003937630542774666\n"
          ],
          "name": "stdout"
        },
        {
          "output_type": "stream",
          "text": [
            "\rEpoch:  31%|███▏      | 47/150 [45:31<1:39:21, 57.88s/it]"
          ],
          "name": "stderr"
        },
        {
          "output_type": "stream",
          "text": [
            "Validation loss: 0.26287749816070904\n",
            "Validation Accuracy: 0.9710227272727271\n",
            "F1-Score: 0.1724137931034483\n",
            "Train loss: 0.003415986038438253\n"
          ],
          "name": "stdout"
        },
        {
          "output_type": "stream",
          "text": [
            "\rEpoch:  32%|███▏      | 48/150 [46:30<1:38:29, 57.94s/it]"
          ],
          "name": "stderr"
        },
        {
          "output_type": "stream",
          "text": [
            "Validation loss: 0.2641582759943875\n",
            "Validation Accuracy: 0.9720759423503327\n",
            "F1-Score: 0.16957605985037408\n",
            "Train loss: 0.003161551329488551\n"
          ],
          "name": "stdout"
        },
        {
          "output_type": "stream",
          "text": [
            "\rEpoch:  33%|███▎      | 49/150 [47:27<1:37:29, 57.92s/it]"
          ],
          "name": "stderr"
        },
        {
          "output_type": "stream",
          "text": [
            "Validation loss: 0.2615977322513407\n",
            "Validation Accuracy: 0.9696646341463416\n",
            "F1-Score: 0.16705336426914152\n",
            "Train loss: 0.003112134168911022\n"
          ],
          "name": "stdout"
        },
        {
          "output_type": "stream",
          "text": [
            "\rEpoch:  33%|███▎      | 50/150 [48:26<1:36:46, 58.07s/it]"
          ],
          "name": "stderr"
        },
        {
          "output_type": "stream",
          "text": [
            "Validation loss: 0.27146498181603174\n",
            "Validation Accuracy: 0.9692766075388026\n",
            "F1-Score: 0.17767653758542143\n",
            "Train loss: 0.0030633320814861995\n"
          ],
          "name": "stdout"
        },
        {
          "output_type": "stream",
          "text": [
            "\rEpoch:  34%|███▍      | 51/150 [49:24<1:35:54, 58.13s/it]"
          ],
          "name": "stderr"
        },
        {
          "output_type": "stream",
          "text": [
            "Validation loss: 0.26159143989736383\n",
            "Validation Accuracy: 0.9706485587583149\n",
            "F1-Score: 0.17715617715617715\n",
            "Train loss: 0.0030464791761914967\n"
          ],
          "name": "stdout"
        },
        {
          "output_type": "stream",
          "text": [
            "\rEpoch:  35%|███▍      | 52/150 [50:22<1:34:35, 57.91s/it]"
          ],
          "name": "stderr"
        },
        {
          "output_type": "stream",
          "text": [
            "Validation loss: 0.2582156400788914\n",
            "Validation Accuracy: 0.9711474501108647\n",
            "F1-Score: 0.1542168674698795\n",
            "Train loss: 0.0029542846050389926\n"
          ],
          "name": "stdout"
        },
        {
          "output_type": "stream",
          "text": [
            "\rEpoch:  35%|███▌      | 53/150 [51:19<1:33:36, 57.90s/it]"
          ],
          "name": "stderr"
        },
        {
          "output_type": "stream",
          "text": [
            "Validation loss: 0.26019941541281616\n",
            "Validation Accuracy: 0.9717433481152994\n",
            "F1-Score: 0.1795511221945137\n",
            "Train loss: 0.002913875840855932\n"
          ],
          "name": "stdout"
        },
        {
          "output_type": "stream",
          "text": [
            "\rEpoch:  36%|███▌      | 54/150 [52:17<1:32:35, 57.87s/it]"
          ],
          "name": "stderr"
        },
        {
          "output_type": "stream",
          "text": [
            "Validation loss: 0.2704624032432383\n",
            "Validation Accuracy: 0.969318181818182\n",
            "F1-Score: 0.17848970251716248\n",
            "Train loss: 0.002446510629359485\n"
          ],
          "name": "stdout"
        },
        {
          "output_type": "stream",
          "text": [
            "\rEpoch:  37%|███▋      | 55/150 [53:15<1:31:36, 57.85s/it]"
          ],
          "name": "stderr"
        },
        {
          "output_type": "stream",
          "text": [
            "Validation loss: 0.2583264938809655\n",
            "Validation Accuracy: 0.9681679600886917\n",
            "F1-Score: 0.17142857142857143\n",
            "Train loss: 0.002893407104390159\n"
          ],
          "name": "stdout"
        },
        {
          "output_type": "stream",
          "text": [
            "\rEpoch:  37%|███▋      | 56/150 [54:13<1:30:43, 57.91s/it]"
          ],
          "name": "stderr"
        },
        {
          "output_type": "stream",
          "text": [
            "Validation loss: 0.25528704713691364\n",
            "Validation Accuracy: 0.9704406873614192\n",
            "F1-Score: 0.17475728155339806\n",
            "Train loss: 0.0024656319014487358\n"
          ],
          "name": "stdout"
        },
        {
          "output_type": "stream",
          "text": [
            "\rEpoch:  38%|███▊      | 57/150 [55:11<1:29:40, 57.85s/it]"
          ],
          "name": "stderr"
        },
        {
          "output_type": "stream",
          "text": [
            "Validation loss: 0.2704101557081396\n",
            "Validation Accuracy: 0.9701635254988914\n",
            "F1-Score: 0.16990291262135923\n",
            "Train loss: 0.002909735920638923\n"
          ],
          "name": "stdout"
        },
        {
          "output_type": "stream",
          "text": [
            "\rEpoch:  39%|███▊      | 58/150 [56:09<1:28:58, 58.03s/it]"
          ],
          "name": "stderr"
        },
        {
          "output_type": "stream",
          "text": [
            "Validation loss: 0.2775294475934722\n",
            "Validation Accuracy: 0.9646480044345896\n",
            "F1-Score: 0.14516129032258066\n",
            "Train loss: 0.003411180278400631\n"
          ],
          "name": "stdout"
        },
        {
          "output_type": "stream",
          "text": [
            "\rEpoch:  39%|███▉      | 59/150 [57:07<1:27:53, 57.95s/it]"
          ],
          "name": "stderr"
        },
        {
          "output_type": "stream",
          "text": [
            "Validation loss: 0.24723883650519632\n",
            "Validation Accuracy: 0.9709257206208425\n",
            "F1-Score: 0.16666666666666666\n",
            "Train loss: 0.002236078750267249\n"
          ],
          "name": "stdout"
        },
        {
          "output_type": "stream",
          "text": [
            "\rEpoch:  40%|████      | 60/150 [58:05<1:26:49, 57.88s/it]"
          ],
          "name": "stderr"
        },
        {
          "output_type": "stream",
          "text": [
            "Validation loss: 0.26089591736143286\n",
            "Validation Accuracy: 0.9711613082039912\n",
            "F1-Score: 0.20192307692307693\n",
            "Train loss: 0.0024353217030466112\n"
          ],
          "name": "stdout"
        },
        {
          "output_type": "stream",
          "text": [
            "\rEpoch:  41%|████      | 61/150 [59:02<1:25:42, 57.78s/it]"
          ],
          "name": "stderr"
        },
        {
          "output_type": "stream",
          "text": [
            "Validation loss: 0.2716439887881279\n",
            "Validation Accuracy: 0.9729905764966741\n",
            "F1-Score: 0.19098143236074275\n",
            "Train loss: 0.0032725070893396455\n"
          ],
          "name": "stdout"
        },
        {
          "output_type": "stream",
          "text": [
            "\rEpoch:  41%|████▏     | 62/150 [1:00:00<1:24:46, 57.80s/it]"
          ],
          "name": "stderr"
        },
        {
          "output_type": "stream",
          "text": [
            "Validation loss: 0.28907527842304925\n",
            "Validation Accuracy: 0.9688747228381377\n",
            "F1-Score: 0.163716814159292\n",
            "Train loss: 0.003417161881012968\n"
          ],
          "name": "stdout"
        },
        {
          "output_type": "stream",
          "text": [
            "\rEpoch:  42%|████▏     | 63/150 [1:00:58<1:23:51, 57.83s/it]"
          ],
          "name": "stderr"
        },
        {
          "output_type": "stream",
          "text": [
            "Validation loss: 0.2858232869343324\n",
            "Validation Accuracy: 0.9679878048780488\n",
            "F1-Score: 0.16289592760180996\n",
            "Train loss: 0.0027184401647370273\n"
          ],
          "name": "stdout"
        },
        {
          "output_type": "stream",
          "text": [
            "\rEpoch:  43%|████▎     | 64/150 [1:01:56<1:22:56, 57.86s/it]"
          ],
          "name": "stderr"
        },
        {
          "output_type": "stream",
          "text": [
            "Validation loss: 0.24694621766155417\n",
            "Validation Accuracy: 0.9716047671840354\n",
            "F1-Score: 0.17475728155339806\n",
            "Train loss: 0.0028347836258338552\n"
          ],
          "name": "stdout"
        },
        {
          "output_type": "stream",
          "text": [
            "\rEpoch:  43%|████▎     | 65/150 [1:02:54<1:22:01, 57.90s/it]"
          ],
          "name": "stderr"
        },
        {
          "output_type": "stream",
          "text": [
            "Validation loss: 0.2700476768341931\n",
            "Validation Accuracy: 0.9680293791574278\n",
            "F1-Score: 0.15452538631346577\n",
            "Train loss: 0.0027513748617972547\n"
          ],
          "name": "stdout"
        },
        {
          "output_type": "stream",
          "text": [
            "\rEpoch:  44%|████▍     | 66/150 [1:03:52<1:21:05, 57.93s/it]"
          ],
          "name": "stderr"
        },
        {
          "output_type": "stream",
          "text": [
            "Validation loss: 0.277771532535553\n",
            "Validation Accuracy: 0.9705654101995567\n",
            "F1-Score: 0.16019417475728157\n",
            "Train loss: 0.0023708076718852076\n"
          ],
          "name": "stdout"
        },
        {
          "output_type": "stream",
          "text": [
            "\rEpoch:  45%|████▍     | 67/150 [1:04:50<1:20:03, 57.88s/it]"
          ],
          "name": "stderr"
        },
        {
          "output_type": "stream",
          "text": [
            "Validation loss: 0.2817693054676056\n",
            "Validation Accuracy: 0.9702189578713969\n",
            "F1-Score: 0.15158924205378974\n",
            "Train loss: 0.0021395766495212834\n"
          ],
          "name": "stdout"
        },
        {
          "output_type": "stream",
          "text": [
            "\rEpoch:  45%|████▌     | 68/150 [1:05:47<1:19:00, 57.82s/it]"
          ],
          "name": "stderr"
        },
        {
          "output_type": "stream",
          "text": [
            "Validation loss: 0.2725107195702466\n",
            "Validation Accuracy: 0.966019955654102\n",
            "F1-Score: 0.14492753623188406\n",
            "Train loss: 0.0024402935161257724\n"
          ],
          "name": "stdout"
        },
        {
          "output_type": "stream",
          "text": [
            "\rEpoch:  46%|████▌     | 69/150 [1:06:45<1:17:58, 57.76s/it]"
          ],
          "name": "stderr"
        },
        {
          "output_type": "stream",
          "text": [
            "Validation loss: 0.2795531140132384\n",
            "Validation Accuracy: 0.9711058758314857\n",
            "F1-Score: 0.17199017199017197\n",
            "Train loss: 0.0019369822436298516\n"
          ],
          "name": "stdout"
        },
        {
          "output_type": "stream",
          "text": [
            "\rEpoch:  47%|████▋     | 70/150 [1:07:43<1:17:00, 57.75s/it]"
          ],
          "name": "stderr"
        },
        {
          "output_type": "stream",
          "text": [
            "Validation loss: 0.2689269212159244\n",
            "Validation Accuracy: 0.9710504434589801\n",
            "F1-Score: 0.16458852867830426\n",
            "Train loss: 0.0020620608952034067\n"
          ],
          "name": "stdout"
        },
        {
          "output_type": "stream",
          "text": [
            "\rEpoch:  47%|████▋     | 71/150 [1:08:41<1:16:05, 57.79s/it]"
          ],
          "name": "stderr"
        },
        {
          "output_type": "stream",
          "text": [
            "Validation loss: 0.26691190085627814\n",
            "Validation Accuracy: 0.9677245011086476\n",
            "F1-Score: 0.15584415584415584\n",
            "Train loss: 0.0019409525996631298\n"
          ],
          "name": "stdout"
        },
        {
          "output_type": "stream",
          "text": [
            "\rEpoch:  48%|████▊     | 72/150 [1:09:38<1:15:02, 57.73s/it]"
          ],
          "name": "stderr"
        },
        {
          "output_type": "stream",
          "text": [
            "Validation loss: 0.2745114646174691\n",
            "Validation Accuracy: 0.9709395787139689\n",
            "F1-Score: 0.16949152542372883\n",
            "Train loss: 0.0024041235586385787\n"
          ],
          "name": "stdout"
        },
        {
          "output_type": "stream",
          "text": [
            "\rEpoch:  49%|████▊     | 73/150 [1:10:36<1:13:57, 57.63s/it]"
          ],
          "name": "stderr"
        },
        {
          "output_type": "stream",
          "text": [
            "Validation loss: 0.24260342121124268\n",
            "Validation Accuracy: 0.9695260532150777\n",
            "F1-Score: 0.16705336426914152\n",
            "Train loss: 0.002732061928478894\n"
          ],
          "name": "stdout"
        },
        {
          "output_type": "stream",
          "text": [
            "\rEpoch:  49%|████▉     | 74/150 [1:11:33<1:13:00, 57.63s/it]"
          ],
          "name": "stderr"
        },
        {
          "output_type": "stream",
          "text": [
            "Validation loss: 0.24199026416648517\n",
            "Validation Accuracy: 0.9667128603104213\n",
            "F1-Score: 0.1708333333333333\n",
            "Train loss: 0.0019706335808677977\n"
          ],
          "name": "stdout"
        },
        {
          "output_type": "stream",
          "text": [
            "\rEpoch:  50%|█████     | 75/150 [1:12:31<1:12:02, 57.63s/it]"
          ],
          "name": "stderr"
        },
        {
          "output_type": "stream",
          "text": [
            "Validation loss: 0.26533363217657263\n",
            "Validation Accuracy: 0.9725609756097562\n",
            "F1-Score: 0.16272965879265092\n",
            "Train loss: 0.0026174753294678035\n"
          ],
          "name": "stdout"
        },
        {
          "output_type": "stream",
          "text": [
            "\rEpoch:  51%|█████     | 76/150 [1:13:29<1:11:10, 57.71s/it]"
          ],
          "name": "stderr"
        },
        {
          "output_type": "stream",
          "text": [
            "Validation loss: 0.2538521493023092\n",
            "Validation Accuracy: 0.9692488913525501\n",
            "F1-Score: 0.16629213483146066\n",
            "Train loss: 0.002725552531463412\n"
          ],
          "name": "stdout"
        },
        {
          "output_type": "stream",
          "text": [
            "\rEpoch:  51%|█████▏    | 77/150 [1:14:27<1:10:16, 57.76s/it]"
          ],
          "name": "stderr"
        },
        {
          "output_type": "stream",
          "text": [
            "Validation loss: 0.30080058628862555\n",
            "Validation Accuracy: 0.9664495565410198\n",
            "F1-Score: 0.15510204081632653\n",
            "Train loss: 0.002833567910973519\n"
          ],
          "name": "stdout"
        },
        {
          "output_type": "stream",
          "text": [
            "\rEpoch:  52%|█████▏    | 78/150 [1:15:25<1:09:23, 57.83s/it]"
          ],
          "name": "stderr"
        },
        {
          "output_type": "stream",
          "text": [
            "Validation loss: 0.26815476336262445\n",
            "Validation Accuracy: 0.9704406873614192\n",
            "F1-Score: 0.15724815724815724\n",
            "Train loss: 0.002410336676045214\n"
          ],
          "name": "stdout"
        },
        {
          "output_type": "stream",
          "text": [
            "\rEpoch:  53%|█████▎    | 79/150 [1:16:22<1:08:22, 57.77s/it]"
          ],
          "name": "stderr"
        },
        {
          "output_type": "stream",
          "text": [
            "Validation loss: 0.2793341712518172\n",
            "Validation Accuracy: 0.9709395787139689\n",
            "F1-Score: 0.16176470588235295\n",
            "Train loss: 0.00203016434810858\n"
          ],
          "name": "stdout"
        },
        {
          "output_type": "stream",
          "text": [
            "\rEpoch:  53%|█████▎    | 80/150 [1:17:20<1:07:26, 57.80s/it]"
          ],
          "name": "stderr"
        },
        {
          "output_type": "stream",
          "text": [
            "Validation loss: 0.2340021160515872\n",
            "Validation Accuracy: 0.9684728381374724\n",
            "F1-Score: 0.17294900221729492\n",
            "Train loss: 0.0018456663301928227\n"
          ],
          "name": "stdout"
        },
        {
          "output_type": "stream",
          "text": [
            "\rEpoch:  54%|█████▍    | 81/150 [1:18:18<1:06:31, 57.85s/it]"
          ],
          "name": "stderr"
        },
        {
          "output_type": "stream",
          "text": [
            "Validation loss: 0.27529212358323013\n",
            "Validation Accuracy: 0.9740576496674058\n",
            "F1-Score: 0.17971014492753623\n",
            "Train loss: 0.002283255477758909\n"
          ],
          "name": "stdout"
        },
        {
          "output_type": "stream",
          "text": [
            "\rEpoch:  55%|█████▍    | 82/150 [1:19:16<1:05:33, 57.85s/it]"
          ],
          "name": "stderr"
        },
        {
          "output_type": "stream",
          "text": [
            "Validation loss: 0.2726059556007385\n",
            "Validation Accuracy: 0.9649528824833703\n",
            "F1-Score: 0.14314928425357873\n",
            "Train loss: 0.0015871394706816015\n"
          ],
          "name": "stdout"
        },
        {
          "output_type": "stream",
          "text": [
            "\rEpoch:  55%|█████▌    | 83/150 [1:20:14<1:04:32, 57.80s/it]"
          ],
          "name": "stderr"
        },
        {
          "output_type": "stream",
          "text": [
            "Validation loss: 0.2869203727353703\n",
            "Validation Accuracy: 0.9662555432372506\n",
            "F1-Score: 0.1700404858299595\n",
            "Train loss: 0.002180996537883099\n"
          ],
          "name": "stdout"
        },
        {
          "output_type": "stream",
          "text": [
            "\rEpoch:  56%|█████▌    | 84/150 [1:21:11<1:03:31, 57.75s/it]"
          ],
          "name": "stderr"
        },
        {
          "output_type": "stream",
          "text": [
            "Validation loss: 0.26811177080327814\n",
            "Validation Accuracy: 0.9638026607538802\n",
            "F1-Score: 0.13872832369942195\n",
            "Train loss: 0.002577984547997403\n"
          ],
          "name": "stdout"
        },
        {
          "output_type": "stream",
          "text": [
            "\rEpoch:  57%|█████▋    | 85/150 [1:22:09<1:02:34, 57.77s/it]"
          ],
          "name": "stderr"
        },
        {
          "output_type": "stream",
          "text": [
            "Validation loss: 0.26707046682184393\n",
            "Validation Accuracy: 0.9709672949002218\n",
            "F1-Score: 0.1625615763546798\n",
            "Train loss: 0.0025915270792514398\n"
          ],
          "name": "stdout"
        },
        {
          "output_type": "stream",
          "text": [
            "\rEpoch:  57%|█████▋    | 86/150 [1:23:07<1:01:37, 57.78s/it]"
          ],
          "name": "stderr"
        },
        {
          "output_type": "stream",
          "text": [
            "Validation loss: 0.2563697627999566\n",
            "Validation Accuracy: 0.9685975609756099\n",
            "F1-Score: 0.14058956916099774\n",
            "Train loss: 0.001723183003491613\n"
          ],
          "name": "stdout"
        },
        {
          "output_type": "stream",
          "text": [
            "\rEpoch:  58%|█████▊    | 87/150 [1:24:05<1:00:46, 57.88s/it]"
          ],
          "name": "stderr"
        },
        {
          "output_type": "stream",
          "text": [
            "Validation loss: 0.27421078898689966\n",
            "Validation Accuracy: 0.9716186252771618\n",
            "F1-Score: 0.16\n",
            "Train loss: 0.002353494371391207\n"
          ],
          "name": "stdout"
        },
        {
          "output_type": "stream",
          "text": [
            "\rEpoch:  59%|█████▊    | 88/150 [1:25:03<59:45, 57.82s/it]  "
          ],
          "name": "stderr"
        },
        {
          "output_type": "stream",
          "text": [
            "Validation loss: 0.2608517733487216\n",
            "Validation Accuracy: 0.9696369179600886\n",
            "F1-Score: 0.15714285714285714\n",
            "Train loss: 0.002012325937622942\n"
          ],
          "name": "stdout"
        },
        {
          "output_type": "stream",
          "text": [
            "\rEpoch:  59%|█████▉    | 89/150 [1:26:01<58:50, 57.88s/it]"
          ],
          "name": "stderr"
        },
        {
          "output_type": "stream",
          "text": [
            "Validation loss: 0.2627172686836936\n",
            "Validation Accuracy: 0.9708564301552105\n",
            "F1-Score: 0.14427860696517414\n",
            "Train loss: 0.002337186748472201\n"
          ],
          "name": "stdout"
        },
        {
          "output_type": "stream",
          "text": [
            "\rEpoch:  60%|██████    | 90/150 [1:26:59<57:54, 57.90s/it]"
          ],
          "name": "stderr"
        },
        {
          "output_type": "stream",
          "text": [
            "Validation loss: 0.27494752407073975\n",
            "Validation Accuracy: 0.9724501108647451\n",
            "F1-Score: 0.13550135501355012\n",
            "Train loss: 0.002577493814783338\n"
          ],
          "name": "stdout"
        },
        {
          "output_type": "stream",
          "text": [
            "\rEpoch:  61%|██████    | 91/150 [1:27:56<56:53, 57.85s/it]"
          ],
          "name": "stderr"
        },
        {
          "output_type": "stream",
          "text": [
            "Validation loss: 0.26578875427896326\n",
            "Validation Accuracy: 0.9702743902439025\n",
            "F1-Score: 0.14778325123152708\n",
            "Train loss: 0.0029268223717053843\n"
          ],
          "name": "stdout"
        },
        {
          "output_type": "stream",
          "text": [
            "\rEpoch:  61%|██████▏   | 92/150 [1:28:54<56:00, 57.93s/it]"
          ],
          "name": "stderr"
        },
        {
          "output_type": "stream",
          "text": [
            "Validation loss: 0.2504976053129543\n",
            "Validation Accuracy: 0.9707455654101996\n",
            "F1-Score: 0.1607565011820331\n",
            "Train loss: 0.0023033625507954034\n"
          ],
          "name": "stdout"
        },
        {
          "output_type": "stream",
          "text": [
            "\rEpoch:  62%|██████▏   | 93/150 [1:29:53<55:06, 58.01s/it]"
          ],
          "name": "stderr"
        },
        {
          "output_type": "stream",
          "text": [
            "Validation loss: 0.26320663500915875\n",
            "Validation Accuracy: 0.9708841463414634\n",
            "F1-Score: 0.14851485148514854\n",
            "Train loss: 0.002003824460435529\n"
          ],
          "name": "stdout"
        },
        {
          "output_type": "stream",
          "text": [
            "\rEpoch:  63%|██████▎   | 94/150 [1:30:50<54:03, 57.91s/it]"
          ],
          "name": "stderr"
        },
        {
          "output_type": "stream",
          "text": [
            "Validation loss: 0.28089884329925885\n",
            "Validation Accuracy: 0.9674750554323726\n",
            "F1-Score: 0.15913978494623654\n",
            "Train loss: 0.0017121416311643618\n"
          ],
          "name": "stdout"
        },
        {
          "output_type": "stream",
          "text": [
            "\rEpoch:  63%|██████▎   | 95/150 [1:31:48<53:04, 57.90s/it]"
          ],
          "name": "stderr"
        },
        {
          "output_type": "stream",
          "text": [
            "Validation loss: 0.30996238508007745\n",
            "Validation Accuracy: 0.9667682926829269\n",
            "F1-Score: 0.1509433962264151\n",
            "Train loss: 0.002324938936150526\n"
          ],
          "name": "stdout"
        },
        {
          "output_type": "stream",
          "text": [
            "\rEpoch:  64%|██████▍   | 96/150 [1:32:46<52:03, 57.85s/it]"
          ],
          "name": "stderr"
        },
        {
          "output_type": "stream",
          "text": [
            "Validation loss: 0.29221670058640564\n",
            "Validation Accuracy: 0.9660060975609757\n",
            "F1-Score: 0.13195876288659794\n",
            "Train loss: 0.0018027789827594158\n"
          ],
          "name": "stdout"
        },
        {
          "output_type": "stream",
          "text": [
            "\rEpoch:  65%|██████▍   | 97/150 [1:33:44<51:06, 57.86s/it]"
          ],
          "name": "stderr"
        },
        {
          "output_type": "stream",
          "text": [
            "Validation loss: 0.27565243569287384\n",
            "Validation Accuracy: 0.9694567627494457\n",
            "F1-Score: 0.15492957746478875\n",
            "Train loss: 0.0019066892586276178\n"
          ],
          "name": "stdout"
        },
        {
          "output_type": "stream",
          "text": [
            "\rEpoch:  65%|██████▌   | 98/150 [1:34:42<50:14, 57.96s/it]"
          ],
          "name": "stderr"
        },
        {
          "output_type": "stream",
          "text": [
            "Validation loss: 0.27866411209106445\n",
            "Validation Accuracy: 0.968389689578714\n",
            "F1-Score: 0.15277777777777776\n",
            "Train loss: 0.0015947200015110259\n"
          ],
          "name": "stdout"
        },
        {
          "output_type": "stream",
          "text": [
            "\rEpoch:  66%|██████▌   | 99/150 [1:35:40<49:13, 57.91s/it]"
          ],
          "name": "stderr"
        },
        {
          "output_type": "stream",
          "text": [
            "Validation loss: 0.28382292796264996\n",
            "Validation Accuracy: 0.9679739467849224\n",
            "F1-Score: 0.16017316017316016\n",
            "Train loss: 0.0016176578398017227\n"
          ],
          "name": "stdout"
        },
        {
          "output_type": "stream",
          "text": [
            "\rEpoch:  67%|██████▋   | 100/150 [1:36:38<48:16, 57.93s/it]"
          ],
          "name": "stderr"
        },
        {
          "output_type": "stream",
          "text": [
            "Validation loss: 0.26635432920672675\n",
            "Validation Accuracy: 0.9685837028824834\n",
            "F1-Score: 0.15313225058004637\n",
            "Train loss: 0.001867390431698368\n"
          ],
          "name": "stdout"
        },
        {
          "output_type": "stream",
          "text": [
            "\rEpoch:  67%|██████▋   | 101/150 [1:37:36<47:17, 57.91s/it]"
          ],
          "name": "stderr"
        },
        {
          "output_type": "stream",
          "text": [
            "Validation loss: 0.2655150023373691\n",
            "Validation Accuracy: 0.9695953436807095\n",
            "F1-Score: 0.14832535885167464\n",
            "Train loss: 0.0018458191782049955\n"
          ],
          "name": "stdout"
        },
        {
          "output_type": "stream",
          "text": [
            "\rEpoch:  68%|██████▊   | 102/150 [1:38:34<46:18, 57.89s/it]"
          ],
          "name": "stderr"
        },
        {
          "output_type": "stream",
          "text": [
            "Validation loss: 0.31224941259080713\n",
            "Validation Accuracy: 0.9659645232815962\n",
            "F1-Score: 0.1554192229038855\n",
            "Train loss: 0.001854918952517437\n"
          ],
          "name": "stdout"
        },
        {
          "output_type": "stream",
          "text": [
            "\rEpoch:  69%|██████▊   | 103/150 [1:39:31<45:20, 57.87s/it]"
          ],
          "name": "stderr"
        },
        {
          "output_type": "stream",
          "text": [
            "Validation loss: 0.2755761999975551\n",
            "Validation Accuracy: 0.9680709534368073\n",
            "F1-Score: 0.15068493150684933\n",
            "Train loss: 0.0017887868301045273\n"
          ],
          "name": "stdout"
        },
        {
          "output_type": "stream",
          "text": [
            "\rEpoch:  69%|██████▉   | 104/150 [1:40:29<44:17, 57.78s/it]"
          ],
          "name": "stderr"
        },
        {
          "output_type": "stream",
          "text": [
            "Validation loss: 0.2885724373839118\n",
            "Validation Accuracy: 0.9667544345898005\n",
            "F1-Score: 0.17204301075268816\n",
            "Train loss: 0.002861392270195514\n"
          ],
          "name": "stdout"
        },
        {
          "output_type": "stream",
          "text": [
            "\rEpoch:  70%|███████   | 105/150 [1:41:27<43:23, 57.86s/it]"
          ],
          "name": "stderr"
        },
        {
          "output_type": "stream",
          "text": [
            "Validation loss: 0.26590280505743896\n",
            "Validation Accuracy: 0.964550997782705\n",
            "F1-Score: 0.15841584158415842\n",
            "Train loss: 0.0022670311313959246\n"
          ],
          "name": "stdout"
        },
        {
          "output_type": "stream",
          "text": [
            "\rEpoch:  71%|███████   | 106/150 [1:42:25<42:26, 57.86s/it]"
          ],
          "name": "stderr"
        },
        {
          "output_type": "stream",
          "text": [
            "Validation loss: 0.26670314507050946\n",
            "Validation Accuracy: 0.9722422394678493\n",
            "F1-Score: 0.1514360313315927\n",
            "Train loss: 0.0022256816933463597\n"
          ],
          "name": "stdout"
        },
        {
          "output_type": "stream",
          "text": [
            "\rEpoch:  71%|███████▏  | 107/150 [1:43:23<41:33, 57.99s/it]"
          ],
          "name": "stderr"
        },
        {
          "output_type": "stream",
          "text": [
            "Validation loss: 0.2746449966322292\n",
            "Validation Accuracy: 0.9712583148558758\n",
            "F1-Score: 0.1514360313315927\n",
            "Train loss: 0.0019179865278905102\n"
          ],
          "name": "stdout"
        },
        {
          "output_type": "stream",
          "text": [
            "\rEpoch:  72%|███████▏  | 108/150 [1:44:21<40:34, 57.95s/it]"
          ],
          "name": "stderr"
        },
        {
          "output_type": "stream",
          "text": [
            "Validation loss: 0.25714014064181934\n",
            "Validation Accuracy: 0.9615160753880265\n",
            "F1-Score: 0.13432835820895522\n",
            "Train loss: 0.0010944951803348129\n"
          ],
          "name": "stdout"
        },
        {
          "output_type": "stream",
          "text": [
            "\rEpoch:  73%|███████▎  | 109/150 [1:45:19<39:37, 57.99s/it]"
          ],
          "name": "stderr"
        },
        {
          "output_type": "stream",
          "text": [
            "Validation loss: 0.30888804386962543\n",
            "Validation Accuracy: 0.9604212860310422\n",
            "F1-Score: 0.13805309734513277\n",
            "Train loss: 0.002217183547562248\n"
          ],
          "name": "stdout"
        },
        {
          "output_type": "stream",
          "text": [
            "\rEpoch:  73%|███████▎  | 110/150 [1:46:17<38:42, 58.07s/it]"
          ],
          "name": "stderr"
        },
        {
          "output_type": "stream",
          "text": [
            "Validation loss: 0.2724256190386685\n",
            "Validation Accuracy: 0.9665049889135253\n",
            "F1-Score: 0.13186813186813184\n",
            "Train loss: 0.002045052408940743\n"
          ],
          "name": "stdout"
        },
        {
          "output_type": "stream",
          "text": [
            "\rEpoch:  74%|███████▍  | 111/150 [1:47:15<37:44, 58.06s/it]"
          ],
          "name": "stderr"
        },
        {
          "output_type": "stream",
          "text": [
            "Validation loss: 0.29286646165631036\n",
            "Validation Accuracy: 0.9686252771618626\n",
            "F1-Score: 0.17209302325581394\n",
            "Train loss: 0.0023922037866555\n"
          ],
          "name": "stdout"
        },
        {
          "output_type": "stream",
          "text": [
            "\rEpoch:  75%|███████▍  | 112/150 [1:48:13<36:46, 58.07s/it]"
          ],
          "name": "stderr"
        },
        {
          "output_type": "stream",
          "text": [
            "Validation loss: 0.29844270646572113\n",
            "Validation Accuracy: 0.965230044345898\n",
            "F1-Score: 0.1496881496881497\n",
            "Train loss: 0.0024141802400473957\n"
          ],
          "name": "stdout"
        },
        {
          "output_type": "stream",
          "text": [
            "\rEpoch:  75%|███████▌  | 113/150 [1:49:12<35:49, 58.10s/it]"
          ],
          "name": "stderr"
        },
        {
          "output_type": "stream",
          "text": [
            "Validation loss: 0.2692278041080995\n",
            "Validation Accuracy: 0.9608231707317073\n",
            "F1-Score: 0.1349911190053286\n",
            "Train loss: 0.0021148694183163266\n"
          ],
          "name": "stdout"
        },
        {
          "output_type": "stream",
          "text": [
            "\rEpoch:  76%|███████▌  | 114/150 [1:50:09<34:46, 57.96s/it]"
          ],
          "name": "stderr"
        },
        {
          "output_type": "stream",
          "text": [
            "Validation loss: 0.28348095444115723\n",
            "Validation Accuracy: 0.9662001108647451\n",
            "F1-Score: 0.1544885177453027\n",
            "Train loss: 0.001855458363024809\n"
          ],
          "name": "stdout"
        },
        {
          "output_type": "stream",
          "text": [
            "\rEpoch:  77%|███████▋  | 115/150 [1:51:07<33:47, 57.92s/it]"
          ],
          "name": "stderr"
        },
        {
          "output_type": "stream",
          "text": [
            "Validation loss: 0.30762901224873285\n",
            "Validation Accuracy: 0.9647727272727272\n",
            "F1-Score: 0.13924050632911392\n",
            "Train loss: 0.0019820189709207625\n"
          ],
          "name": "stdout"
        },
        {
          "output_type": "stream",
          "text": [
            "\rEpoch:  77%|███████▋  | 116/150 [1:52:05<32:47, 57.86s/it]"
          ],
          "name": "stderr"
        },
        {
          "output_type": "stream",
          "text": [
            "Validation loss: 0.29473881965333765\n",
            "Validation Accuracy: 0.9708564301552106\n",
            "F1-Score: 0.16666666666666666\n",
            "Train loss: 0.0016491504637012138\n"
          ],
          "name": "stdout"
        },
        {
          "output_type": "stream",
          "text": [
            "\rEpoch:  78%|███████▊  | 117/150 [1:53:03<31:53, 57.98s/it]"
          ],
          "name": "stderr"
        },
        {
          "output_type": "stream",
          "text": [
            "Validation loss: 0.2937540357763117\n",
            "Validation Accuracy: 0.9705099778270512\n",
            "F1-Score: 0.16748768472906403\n",
            "Train loss: 0.0014287217052810774\n"
          ],
          "name": "stdout"
        },
        {
          "output_type": "stream",
          "text": [
            "\rEpoch:  79%|███████▊  | 118/150 [1:54:01<30:51, 57.86s/it]"
          ],
          "name": "stderr"
        },
        {
          "output_type": "stream",
          "text": [
            "Validation loss: 0.31432759490880097\n",
            "Validation Accuracy: 0.9703159645232815\n",
            "F1-Score: 0.16748768472906403\n",
            "Train loss: 0.001751035086063742\n"
          ],
          "name": "stdout"
        },
        {
          "output_type": "stream",
          "text": [
            "\rEpoch:  79%|███████▉  | 119/150 [1:54:59<29:55, 57.90s/it]"
          ],
          "name": "stderr"
        },
        {
          "output_type": "stream",
          "text": [
            "Validation loss: 0.2691359980539842\n",
            "Validation Accuracy: 0.9688331485587584\n",
            "F1-Score: 0.16326530612244897\n",
            "Train loss: 0.0017423840068317986\n"
          ],
          "name": "stdout"
        },
        {
          "output_type": "stream",
          "text": [
            "\rEpoch:  80%|████████  | 120/150 [1:55:57<28:56, 57.89s/it]"
          ],
          "name": "stderr"
        },
        {
          "output_type": "stream",
          "text": [
            "Validation loss: 0.31320382790132\n",
            "Validation Accuracy: 0.9709950110864743\n",
            "F1-Score: 0.15938303341902313\n",
            "Train loss: 0.00140118406604491\n"
          ],
          "name": "stdout"
        },
        {
          "output_type": "stream",
          "text": [
            "\rEpoch:  81%|████████  | 121/150 [1:56:55<28:00, 57.94s/it]"
          ],
          "name": "stderr"
        },
        {
          "output_type": "stream",
          "text": [
            "Validation loss: 0.32030376385558734\n",
            "Validation Accuracy: 0.9711613082039912\n",
            "F1-Score: 0.1606217616580311\n",
            "Train loss: 0.0020135424939932514\n"
          ],
          "name": "stdout"
        },
        {
          "output_type": "stream",
          "text": [
            "\rEpoch:  81%|████████▏ | 122/150 [1:57:53<27:06, 58.08s/it]"
          ],
          "name": "stderr"
        },
        {
          "output_type": "stream",
          "text": [
            "Validation loss: 0.2869085981087251\n",
            "Validation Accuracy: 0.9704129711751664\n",
            "F1-Score: 0.16080402010050251\n",
            "Train loss: 0.0018202358409098451\n"
          ],
          "name": "stdout"
        },
        {
          "output_type": "stream",
          "text": [
            "\rEpoch:  82%|████████▏ | 123/150 [1:58:51<26:06, 58.03s/it]"
          ],
          "name": "stderr"
        },
        {
          "output_type": "stream",
          "text": [
            "Validation loss: 0.29122282429174945\n",
            "Validation Accuracy: 0.9698725055432372\n",
            "F1-Score: 0.14588235294117646\n",
            "Train loss: 0.0019120906725144475\n"
          ],
          "name": "stdout"
        },
        {
          "output_type": "stream",
          "text": [
            "\rEpoch:  83%|████████▎ | 124/150 [1:59:49<25:06, 57.94s/it]"
          ],
          "name": "stderr"
        },
        {
          "output_type": "stream",
          "text": [
            "Validation loss: 0.2743044901977886\n",
            "Validation Accuracy: 0.9689994456762748\n",
            "F1-Score: 0.15777262180974477\n",
            "Train loss: 0.0015259761030961272\n"
          ],
          "name": "stdout"
        },
        {
          "output_type": "stream",
          "text": [
            "\rEpoch:  83%|████████▎ | 125/150 [2:00:47<24:08, 57.94s/it]"
          ],
          "name": "stderr"
        },
        {
          "output_type": "stream",
          "text": [
            "Validation loss: 0.30982052060690796\n",
            "Validation Accuracy: 0.9722422394678492\n",
            "F1-Score: 0.15384615384615383\n",
            "Train loss: 0.0021294490116095708\n"
          ],
          "name": "stdout"
        },
        {
          "output_type": "stream",
          "text": [
            "\rEpoch:  84%|████████▍ | 126/150 [2:01:45<23:12, 58.01s/it]"
          ],
          "name": "stderr"
        },
        {
          "output_type": "stream",
          "text": [
            "Validation loss: 0.30641116201877594\n",
            "Validation Accuracy: 0.9684866962305986\n",
            "F1-Score: 0.16055045871559634\n",
            "Train loss: 0.0016882134558121227\n"
          ],
          "name": "stdout"
        },
        {
          "output_type": "stream",
          "text": [
            "\rEpoch:  85%|████████▍ | 127/150 [2:02:43<22:13, 57.98s/it]"
          ],
          "name": "stderr"
        },
        {
          "output_type": "stream",
          "text": [
            "Validation loss: 0.2944945015690543\n",
            "Validation Accuracy: 0.972380820399113\n",
            "F1-Score: 0.18716577540106952\n",
            "Train loss: 0.0015968688779632127\n"
          ],
          "name": "stdout"
        },
        {
          "output_type": "stream",
          "text": [
            "\rEpoch:  85%|████████▌ | 128/150 [2:03:41<21:15, 57.96s/it]"
          ],
          "name": "stderr"
        },
        {
          "output_type": "stream",
          "text": [
            "Validation loss: 0.2946361994201487\n",
            "Validation Accuracy: 0.9703159645232816\n",
            "F1-Score: 0.15233415233415232\n",
            "Train loss: 0.0019598604170596445\n"
          ],
          "name": "stdout"
        },
        {
          "output_type": "stream",
          "text": [
            "\rEpoch:  86%|████████▌ | 129/150 [2:04:38<20:16, 57.91s/it]"
          ],
          "name": "stderr"
        },
        {
          "output_type": "stream",
          "text": [
            "Validation loss: 0.2827034890651703\n",
            "Validation Accuracy: 0.972131374722838\n",
            "F1-Score: 0.18974358974358974\n",
            "Train loss: 0.001754384937366164\n"
          ],
          "name": "stdout"
        },
        {
          "output_type": "stream",
          "text": [
            "\rEpoch:  87%|████████▋ | 130/150 [2:05:37<19:20, 58.04s/it]"
          ],
          "name": "stderr"
        },
        {
          "output_type": "stream",
          "text": [
            "Validation loss: 0.2902731922539798\n",
            "Validation Accuracy: 0.9699140798226163\n",
            "F1-Score: 0.16019417475728157\n",
            "Train loss: 0.0015871680945830728\n"
          ],
          "name": "stdout"
        },
        {
          "output_type": "stream",
          "text": [
            "\rEpoch:  87%|████████▋ | 131/150 [2:06:35<18:22, 58.03s/it]"
          ],
          "name": "stderr"
        },
        {
          "output_type": "stream",
          "text": [
            "Validation loss: 0.2686591798608953\n",
            "Validation Accuracy: 0.9739883592017737\n",
            "F1-Score: 0.21203438395415472\n",
            "Train loss: 0.002474485245784308\n"
          ],
          "name": "stdout"
        },
        {
          "output_type": "stream",
          "text": [
            "\rEpoch:  88%|████████▊ | 132/150 [2:07:33<17:24, 58.04s/it]"
          ],
          "name": "stderr"
        },
        {
          "output_type": "stream",
          "text": [
            "Validation loss: 0.3014827614480799\n",
            "Validation Accuracy: 0.9715631929046565\n",
            "F1-Score: 0.19354838709677422\n",
            "Train loss: 0.0016911831932967896\n"
          ],
          "name": "stdout"
        },
        {
          "output_type": "stream",
          "text": [
            "\rEpoch:  89%|████████▊ | 133/150 [2:08:31<16:28, 58.14s/it]"
          ],
          "name": "stderr"
        },
        {
          "output_type": "stream",
          "text": [
            "Validation loss: 0.286532769149\n",
            "Validation Accuracy: 0.9708148558758315\n",
            "F1-Score: 0.1902439024390244\n",
            "Train loss: 0.001626321977492277\n"
          ],
          "name": "stdout"
        },
        {
          "output_type": "stream",
          "text": [
            "\rEpoch:  89%|████████▉ | 134/150 [2:09:29<15:28, 58.02s/it]"
          ],
          "name": "stderr"
        },
        {
          "output_type": "stream",
          "text": [
            "Validation loss: 0.3031672781163996\n",
            "Validation Accuracy: 0.968320399113082\n",
            "F1-Score: 0.1670428893905192\n",
            "Train loss: 0.0022902521715953603\n"
          ],
          "name": "stdout"
        },
        {
          "output_type": "stream",
          "text": [
            "\rEpoch:  90%|█████████ | 135/150 [2:10:26<14:27, 57.86s/it]"
          ],
          "name": "stderr"
        },
        {
          "output_type": "stream",
          "text": [
            "Validation loss: 0.28809422796422784\n",
            "Validation Accuracy: 0.9666435698447894\n",
            "F1-Score: 0.17391304347826086\n",
            "Train loss: 0.0014121974452336872\n"
          ],
          "name": "stdout"
        },
        {
          "output_type": "stream",
          "text": [
            "\rEpoch:  91%|█████████ | 136/150 [2:11:24<13:30, 57.93s/it]"
          ],
          "name": "stderr"
        },
        {
          "output_type": "stream",
          "text": [
            "Validation loss: 0.28046566383405164\n",
            "Validation Accuracy: 0.9705931263858094\n",
            "F1-Score: 0.1745635910224439\n",
            "Train loss: 0.0012763766356253352\n"
          ],
          "name": "stdout"
        },
        {
          "output_type": "stream",
          "text": [
            "\rEpoch:  91%|█████████▏| 137/150 [2:12:22<12:32, 57.92s/it]"
          ],
          "name": "stderr"
        },
        {
          "output_type": "stream",
          "text": [
            "Validation loss: 0.30461226945573633\n",
            "Validation Accuracy: 0.9698863636363637\n",
            "F1-Score: 0.18660287081339716\n",
            "Train loss: 0.0017175495564079786\n"
          ],
          "name": "stdout"
        },
        {
          "output_type": "stream",
          "text": [
            "\rEpoch:  92%|█████████▏| 138/150 [2:13:20<11:35, 57.95s/it]"
          ],
          "name": "stderr"
        },
        {
          "output_type": "stream",
          "text": [
            "Validation loss: 0.29388379237868567\n",
            "Validation Accuracy: 0.9703852549889135\n",
            "F1-Score: 0.15763546798029557\n",
            "Train loss: 0.0017367772685474847\n"
          ],
          "name": "stdout"
        },
        {
          "output_type": "stream",
          "text": [
            "\rEpoch:  93%|█████████▎| 139/150 [2:14:19<10:38, 58.01s/it]"
          ],
          "name": "stderr"
        },
        {
          "output_type": "stream",
          "text": [
            "Validation loss: 0.327216084707867\n",
            "Validation Accuracy: 0.967530487804878\n",
            "F1-Score: 0.16071428571428573\n",
            "Train loss: 0.0013343534248330495\n"
          ],
          "name": "stdout"
        },
        {
          "output_type": "stream",
          "text": [
            "\rEpoch:  93%|█████████▎| 140/150 [2:15:16<09:39, 57.92s/it]"
          ],
          "name": "stderr"
        },
        {
          "output_type": "stream",
          "text": [
            "Validation loss: 0.26709079945629294\n",
            "Validation Accuracy: 0.966629711751663\n",
            "F1-Score: 0.19574468085106383\n",
            "Train loss: 0.0018768141820260098\n"
          ],
          "name": "stdout"
        },
        {
          "output_type": "stream",
          "text": [
            "\rEpoch:  94%|█████████▍| 141/150 [2:16:14<08:40, 57.87s/it]"
          ],
          "name": "stderr"
        },
        {
          "output_type": "stream",
          "text": [
            "Validation loss: 0.2805649421431802\n",
            "Validation Accuracy: 0.9687361419068735\n",
            "F1-Score: 0.18894009216589863\n",
            "Train loss: 0.0010564021442102482\n"
          ],
          "name": "stdout"
        },
        {
          "output_type": "stream",
          "text": [
            "\rEpoch:  95%|█████████▍| 142/150 [2:17:12<07:44, 58.03s/it]"
          ],
          "name": "stderr"
        },
        {
          "output_type": "stream",
          "text": [
            "Validation loss: 0.3295888182791797\n",
            "Validation Accuracy: 0.9713137472283813\n",
            "F1-Score: 0.18\n",
            "Train loss: 0.0013238931516923458\n"
          ],
          "name": "stdout"
        },
        {
          "output_type": "stream",
          "text": [
            "\rEpoch:  95%|█████████▌| 143/150 [2:18:11<06:47, 58.18s/it]"
          ],
          "name": "stderr"
        },
        {
          "output_type": "stream",
          "text": [
            "Validation loss: 0.31172850728034973\n",
            "Validation Accuracy: 0.9675027716186253\n",
            "F1-Score: 0.17278617710583152\n",
            "Train loss: 0.0012551103642598112\n"
          ],
          "name": "stdout"
        },
        {
          "output_type": "stream",
          "text": [
            "\rEpoch:  96%|█████████▌| 144/150 [2:19:09<05:49, 58.28s/it]"
          ],
          "name": "stderr"
        },
        {
          "output_type": "stream",
          "text": [
            "Validation loss: 0.2763253396207636\n",
            "Validation Accuracy: 0.9697062084257204\n",
            "F1-Score: 0.17410714285714288\n",
            "Train loss: 0.001637817215623727\n"
          ],
          "name": "stdout"
        },
        {
          "output_type": "stream",
          "text": [
            "\rEpoch:  97%|█████████▋| 145/150 [2:20:08<04:51, 58.37s/it]"
          ],
          "name": "stderr"
        },
        {
          "output_type": "stream",
          "text": [
            "Validation loss: 0.28233614428476855\n",
            "Validation Accuracy: 0.9756513303769402\n",
            "F1-Score: 0.20118343195266272\n",
            "Train loss: 0.0016376825595235307\n"
          ],
          "name": "stdout"
        },
        {
          "output_type": "stream",
          "text": [
            "\rEpoch:  97%|█████████▋| 146/150 [2:21:07<03:53, 58.43s/it]"
          ],
          "name": "stderr"
        },
        {
          "output_type": "stream",
          "text": [
            "Validation loss: 0.28857810524376953\n",
            "Validation Accuracy: 0.9685421286031043\n",
            "F1-Score: 0.1818181818181818\n",
            "Train loss: 0.0014071771477877821\n"
          ],
          "name": "stdout"
        },
        {
          "output_type": "stream",
          "text": [
            "\rEpoch:  98%|█████████▊| 147/150 [2:22:05<02:55, 58.47s/it]"
          ],
          "name": "stderr"
        },
        {
          "output_type": "stream",
          "text": [
            "Validation loss: 0.2795023335651918\n",
            "Validation Accuracy: 0.9715077605321505\n",
            "F1-Score: 0.17042606516290726\n",
            "Train loss: 0.0012335308665569755\n"
          ],
          "name": "stdout"
        },
        {
          "output_type": "stream",
          "text": [
            "\rEpoch:  99%|█████████▊| 148/150 [2:23:04<01:57, 58.51s/it]"
          ],
          "name": "stderr"
        },
        {
          "output_type": "stream",
          "text": [
            "Validation loss: 0.30913054943084717\n",
            "Validation Accuracy: 0.9715077605321508\n",
            "F1-Score: 0.16836734693877553\n",
            "Train loss: 0.0017425507629127424\n"
          ],
          "name": "stdout"
        },
        {
          "output_type": "stream",
          "text": [
            "\rEpoch:  99%|█████████▉| 149/150 [2:24:02<00:58, 58.54s/it]"
          ],
          "name": "stderr"
        },
        {
          "output_type": "stream",
          "text": [
            "Validation loss: 0.2892542251131751\n",
            "Validation Accuracy: 0.9711890243902438\n",
            "F1-Score: 0.17616580310880828\n",
            "Train loss: 0.0019233963803534\n"
          ],
          "name": "stdout"
        },
        {
          "output_type": "stream",
          "text": [
            "\rEpoch: 100%|██████████| 150/150 [2:25:01<00:00, 58.57s/it]"
          ],
          "name": "stderr"
        },
        {
          "output_type": "stream",
          "text": [
            "Validation loss: 0.2862852053208785\n",
            "Validation Accuracy: 0.9727134146341463\n",
            "F1-Score: 0.19407008086253372\n"
          ],
          "name": "stdout"
        },
        {
          "output_type": "stream",
          "text": [
            "\n"
          ],
          "name": "stderr"
        }
      ]
    },
    {
      "cell_type": "code",
      "metadata": {
        "id": "9L1WxY-YqdtJ",
        "colab_type": "code",
        "colab": {}
      },
      "source": [
        ""
      ],
      "execution_count": 0,
      "outputs": []
    }
  ]
}