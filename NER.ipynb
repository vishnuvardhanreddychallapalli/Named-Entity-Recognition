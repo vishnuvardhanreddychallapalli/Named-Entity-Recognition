{
  "nbformat": 4,
  "nbformat_minor": 0,
  "metadata": {
    "colab": {
      "name": "NER.ipynb",
      "provenance": [],
      "include_colab_link": true
    },
    "kernelspec": {
      "name": "python3",
      "display_name": "Python 3"
    }
  },
  "cells": [
    {
      "cell_type": "markdown",
      "metadata": {
        "id": "view-in-github",
        "colab_type": "text"
      },
      "source": [
        "<a href=\"https://colab.research.google.com/github/vishnuvardhanreddychallapalli/Named-Entity-Recognition/blob/master/NER.ipynb\" target=\"_parent\"><img src=\"https://colab.research.google.com/assets/colab-badge.svg\" alt=\"Open In Colab\"/></a>"
      ]
    },
    {
      "cell_type": "markdown",
      "metadata": {
        "id": "KpYPQOd-bnLT",
        "colab_type": "text"
      },
      "source": [
        "Acquring Training Data and Test Data\n",
        "\n",
        "```\n",
        "# This is formatted as code\n",
        "```\n",
        "\n"
      ]
    },
    {
      "cell_type": "code",
      "metadata": {
        "id": "4tylIwCnSihT",
        "colab_type": "code",
        "colab": {}
      },
      "source": [
        "def get_data_and_labels(filename,is_train):\n",
        "    my_data=[]\n",
        "    my_labels=[]\n",
        "    curr_label=[]\n",
        "    curr_sent=[]\n",
        "    with open(filename) as f:\n",
        "        for eachline in f:\n",
        "            if len(eachline.strip())==0:\n",
        "                #print(\"length of line ={} and sent={}\".format(len(eachline),eachline))\n",
        "                if(is_train):\n",
        "                    my_data.append(\" \".join(curr_sent))\n",
        "                    my_labels.append(curr_label)\n",
        "                else:\n",
        "                    my_data.append(\" \".join(curr_sent))\n",
        "                curr_label=[]\n",
        "                curr_sent=[]\n",
        "            else:\n",
        "                my_keys=eachline.strip().split(\"\\t\")\n",
        "                #print(my_keys)\n",
        "                if(is_train):\n",
        "                    curr_sent.append(my_keys[0])\n",
        "                    curr_label.append(my_keys[1])\n",
        "                else:\n",
        "                    curr_sent.append(my_keys[0])\n",
        "    if is_train:\n",
        "        return my_data,my_labels\n",
        "    else:\n",
        "        return my_data"
      ],
      "execution_count": 0,
      "outputs": []
    },
    {
      "cell_type": "code",
      "metadata": {
        "id": "foELRVkYcmFe",
        "colab_type": "code",
        "colab": {}
      },
      "source": [
        "train_data,train_labels=get_data_and_labels('train.txt',True)"
      ],
      "execution_count": 0,
      "outputs": []
    },
    {
      "cell_type": "code",
      "metadata": {
        "id": "rc65okO0S4XX",
        "colab_type": "code",
        "colab": {}
      },
      "source": [
        "test_data=get_data_and_labels('test.txt',False)"
      ],
      "execution_count": 0,
      "outputs": []
    },
    {
      "cell_type": "code",
      "metadata": {
        "id": "L9gCMw7neMD9",
        "colab_type": "code",
        "outputId": "0ec17e29-405b-48d1-a4de-547d7cb6894b",
        "colab": {
          "base_uri": "https://localhost:8080/",
          "height": 34
        }
      },
      "source": [
        "len(train_data),len(train_labels)"
      ],
      "execution_count": 4,
      "outputs": [
        {
          "output_type": "execute_result",
          "data": {
            "text/plain": [
              "(3395, 3395)"
            ]
          },
          "metadata": {
            "tags": []
          },
          "execution_count": 4
        }
      ]
    },
    {
      "cell_type": "code",
      "metadata": {
        "id": "NcSMEDBBeZJg",
        "colab_type": "code",
        "outputId": "7f05a2c9-4aba-4400-d66f-37bc1c8688f5",
        "colab": {
          "base_uri": "https://localhost:8080/",
          "height": 34
        }
      },
      "source": [
        "len(test_data)"
      ],
      "execution_count": 5,
      "outputs": [
        {
          "output_type": "execute_result",
          "data": {
            "text/plain": [
              "1287"
            ]
          },
          "metadata": {
            "tags": []
          },
          "execution_count": 5
        }
      ]
    },
    {
      "cell_type": "code",
      "metadata": {
        "id": "8iVu8rRLeddM",
        "colab_type": "code",
        "outputId": "8dee083e-eabc-4bde-85bc-42744de6031a",
        "colab": {
          "base_uri": "https://localhost:8080/",
          "height": 54
        }
      },
      "source": [
        "train_data[78]"
      ],
      "execution_count": 6,
      "outputs": [
        {
          "output_type": "execute_result",
          "data": {
            "text/plain": [
              "\"Lindsay Lohan allegedly failed her drug test . So not fetch . Quick , let 's all put on our shocked faces that 23 days of rehab did n't work !\""
            ]
          },
          "metadata": {
            "tags": []
          },
          "execution_count": 6
        }
      ]
    },
    {
      "cell_type": "code",
      "metadata": {
        "id": "IY8kfTovYxo_",
        "colab_type": "code",
        "outputId": "00b25d25-ad2a-4fa9-f4d5-251b37053c7a",
        "colab": {
          "base_uri": "https://localhost:8080/",
          "height": 235
        }
      },
      "source": [
        "counter=dict()\n",
        "for each_list in train_labels:\n",
        "  curr_list=each_list\n",
        "  for each_label in each_list:\n",
        "    if counter.get(each_label)==None:\n",
        "      counter[each_label]=1\n",
        "    else:\n",
        "      counter[each_label]+=1\n",
        "counter"
      ],
      "execution_count": 7,
      "outputs": [
        {
          "output_type": "execute_result",
          "data": {
            "text/plain": [
              "{'B-corporation': 221,\n",
              " 'B-creative-work': 140,\n",
              " 'B-group': 264,\n",
              " 'B-location': 548,\n",
              " 'B-person': 660,\n",
              " 'B-product': 142,\n",
              " 'I-corporation': 46,\n",
              " 'I-creative-work': 206,\n",
              " 'I-group': 150,\n",
              " 'I-location': 245,\n",
              " 'I-person': 335,\n",
              " 'I-product': 203,\n",
              " 'O': 59570}"
            ]
          },
          "metadata": {
            "tags": []
          },
          "execution_count": 7
        }
      ]
    },
    {
      "cell_type": "code",
      "metadata": {
        "id": "LiET1Y0kZt4Z",
        "colab_type": "code",
        "outputId": "f025a35f-dc6d-4d7a-e3ad-1e7be28072cf",
        "colab": {
          "base_uri": "https://localhost:8080/",
          "height": 34
        }
      },
      "source": [
        "import numpy as np\n",
        "total=0\n",
        "for val in counter.values():\n",
        "  total+=val\n",
        "total"
      ],
      "execution_count": 8,
      "outputs": [
        {
          "output_type": "execute_result",
          "data": {
            "text/plain": [
              "62730"
            ]
          },
          "metadata": {
            "tags": []
          },
          "execution_count": 8
        }
      ]
    },
    {
      "cell_type": "code",
      "metadata": {
        "id": "4WzWuekOe9vC",
        "colab_type": "code",
        "colab": {}
      },
      "source": [
        "# Check how long sentences are so that we can pad them\n",
        "import matplotlib.pyplot as plt\n",
        "%matplotlib inline\n",
        "plt.style.use(\"ggplot\")"
      ],
      "execution_count": 0,
      "outputs": []
    },
    {
      "cell_type": "code",
      "metadata": {
        "id": "zM8UkhQ2e--Y",
        "colab_type": "code",
        "outputId": "b3d16e38-bb6f-4ace-858a-fd84e5b7d6c0",
        "colab": {
          "base_uri": "https://localhost:8080/",
          "height": 265
        }
      },
      "source": [
        "plt.hist([len(s.split(\" \")) for s in train_data])\n",
        "plt.show()"
      ],
      "execution_count": 10,
      "outputs": [
        {
          "output_type": "display_data",
          "data": {
            "image/png": "[encoded data removed]",
            "text/plain": [
              "<Figure size 432x288 with 1 Axes>"
            ]
          },
          "metadata": {
            "tags": []
          }
        }
      ]
    },
    {
      "cell_type": "code",
      "metadata": {
        "id": "dCMsOSOKfTnh",
        "colab_type": "code",
        "outputId": "25f63e3a-4e8c-48a8-b595-940aff361325",
        "colab": {
          "base_uri": "https://localhost:8080/",
          "height": 265
        }
      },
      "source": [
        "plt.hist([len(s) for s in train_labels])\n",
        "plt.show()"
      ],
      "execution_count": 11,
      "outputs": [
        {
          "output_type": "display_data",
          "data": {
            "image/png": "[encoded data removed]",
            "text/plain": [
              "<Figure size 432x288 with 1 Axes>"
            ]
          },
          "metadata": {
            "tags": []
          }
        }
      ]
    },
    {
      "cell_type": "code",
      "metadata": {
        "id": "TJNEV-qLfloa",
        "colab_type": "code",
        "outputId": "99866cef-3e27-4cc8-e68b-c8b98cf0c7e0",
        "colab": {
          "base_uri": "https://localhost:8080/",
          "height": 50
        }
      },
      "source": [
        "for i in range(len(train_data)):\n",
        "  if len(train_data[i].split(\" \"))!=len(train_labels[i]):\n",
        "      print(train_data[i])\n",
        "      print(train_labels[i])"
      ],
      "execution_count": 12,
      "outputs": [
        {
          "output_type": "stream",
          "text": [
            "\n",
            "[]\n"
          ],
          "name": "stdout"
        }
      ]
    },
    {
      "cell_type": "code",
      "metadata": {
        "id": "59buhk3zggxL",
        "colab_type": "code",
        "outputId": "17e9b59a-3097-4e9c-9e68-c6fb14832362",
        "colab": {
          "base_uri": "https://localhost:8080/",
          "height": 34
        }
      },
      "source": [
        "maxlen = max([len(s.split(\" \")) for s in train_data])\n",
        "print ('Maximum sequence length:', maxlen)"
      ],
      "execution_count": 13,
      "outputs": [
        {
          "output_type": "stream",
          "text": [
            "Maximum sequence length: 41\n"
          ],
          "name": "stdout"
        }
      ]
    },
    {
      "cell_type": "code",
      "metadata": {
        "id": "97Ntrz2Zh9UX",
        "colab_type": "code",
        "colab": {}
      },
      "source": [
        "max_len=-1\n",
        "max_sent=\"\"\n",
        "for eachsent in train_data:\n",
        "    if len(eachsent.split(\" \"))>max_len:\n",
        "        max_len=len(eachsent.split(\" \"))\n",
        "        max_sent=eachsent"
      ],
      "execution_count": 0,
      "outputs": []
    },
    {
      "cell_type": "code",
      "metadata": {
        "id": "n1QMkQBhiWwV",
        "colab_type": "code",
        "outputId": "b76f3edc-4913-4294-de1f-e419b1e48334",
        "colab": {
          "base_uri": "https://localhost:8080/",
          "height": 70
        }
      },
      "source": [
        "max_len,max_sent"
      ],
      "execution_count": 15,
      "outputs": [
        {
          "output_type": "execute_result",
          "data": {
            "text/plain": [
              "(41,\n",
              " 're : re : re : re : re : re : re : re : re : re : re : re : Esther Sikkimese is now following me on Twitter ! http://t.co/Z58brwgxFp Thanks a bunch ! 103 January ...')"
            ]
          },
          "metadata": {
            "tags": []
          },
          "execution_count": 15
        }
      ]
    },
    {
      "cell_type": "markdown",
      "metadata": {
        "id": "PfyG5pI5jAz2",
        "colab_type": "text"
      },
      "source": [
        "Convert each-word into unique number in training data.."
      ]
    },
    {
      "cell_type": "code",
      "metadata": {
        "id": "-4MklQ3OjNuk",
        "colab_type": "code",
        "colab": {}
      },
      "source": [
        "def get_unique_tokens(data):\n",
        "    unique_words=set()\n",
        "    for each_data_point in data:\n",
        "        #print(each_data_point)\n",
        "        for each_word in each_data_point.split(\" \"):\n",
        "            unique_words.add(each_word)\n",
        "    return list(unique_words)"
      ],
      "execution_count": 0,
      "outputs": []
    },
    {
      "cell_type": "code",
      "metadata": {
        "id": "Pw8eyzNplPVU",
        "colab_type": "code",
        "colab": {}
      },
      "source": [
        "def get_unique_labels(data):\n",
        "    unique_labels=set()\n",
        "    for each_label in data:\n",
        "      curr_label=each_label\n",
        "      for each_label_point in curr_label:\n",
        "          unique_labels.add(each_label_point)\n",
        "    return list(unique_labels)"
      ],
      "execution_count": 0,
      "outputs": []
    },
    {
      "cell_type": "code",
      "metadata": {
        "id": "-q8McHabkPPJ",
        "colab_type": "code",
        "colab": {}
      },
      "source": [
        "unique_train_tokens=get_unique_tokens(train_data)"
      ],
      "execution_count": 0,
      "outputs": []
    },
    {
      "cell_type": "code",
      "metadata": {
        "id": "GC0XsgnslD9s",
        "colab_type": "code",
        "colab": {}
      },
      "source": [
        "unique_train_labels=get_unique_labels(train_labels)"
      ],
      "execution_count": 0,
      "outputs": []
    },
    {
      "cell_type": "code",
      "metadata": {
        "id": "Oop2GDX8l0pH",
        "colab_type": "code",
        "outputId": "db0d54e1-c39f-4768-819b-8dd029063d06",
        "colab": {
          "base_uri": "https://localhost:8080/",
          "height": 34
        }
      },
      "source": [
        "len(unique_train_tokens),len(unique_train_labels)"
      ],
      "execution_count": 20,
      "outputs": [
        {
          "output_type": "execute_result",
          "data": {
            "text/plain": [
              "(14879, 13)"
            ]
          },
          "metadata": {
            "tags": []
          },
          "execution_count": 20
        }
      ]
    },
    {
      "cell_type": "code",
      "metadata": {
        "id": "X3JBcX_tl6uw",
        "colab_type": "code",
        "outputId": "cdbe0c53-65fe-4e4d-8e36-6446db39ee21",
        "colab": {
          "base_uri": "https://localhost:8080/",
          "height": 235
        }
      },
      "source": [
        "unique_train_labels"
      ],
      "execution_count": 21,
      "outputs": [
        {
          "output_type": "execute_result",
          "data": {
            "text/plain": [
              "['I-creative-work',\n",
              " 'I-group',\n",
              " 'B-location',\n",
              " 'I-location',\n",
              " 'I-product',\n",
              " 'O',\n",
              " 'B-group',\n",
              " 'B-person',\n",
              " 'B-corporation',\n",
              " 'I-person',\n",
              " 'I-corporation',\n",
              " 'B-creative-work',\n",
              " 'B-product']"
            ]
          },
          "metadata": {
            "tags": []
          },
          "execution_count": 21
        }
      ]
    },
    {
      "cell_type": "code",
      "metadata": {
        "id": "IT-3igsBmfb3",
        "colab_type": "code",
        "colab": {}
      },
      "source": [
        "dict_of_word2idx = {w: i for i, w in enumerate(unique_train_tokens)}\n",
        "dict_of_tag2idx = {t: i for i, t in enumerate(unique_train_labels)}\n",
        "dict_of_idx2word= {i:w for i,w in enumerate(unique_train_tokens)}\n",
        "dict_of_idx2tag=  {i:t for i,t in enumerate(unique_train_labels)}"
      ],
      "execution_count": 0,
      "outputs": []
    },
    {
      "cell_type": "code",
      "metadata": {
        "id": "mObozUq1nFZ-",
        "colab_type": "code",
        "outputId": "3c406ca3-8cbd-42f6-d957-b75f1b6955d0",
        "colab": {
          "base_uri": "https://localhost:8080/",
          "height": 235
        }
      },
      "source": [
        "dict_of_tag2idx"
      ],
      "execution_count": 23,
      "outputs": [
        {
          "output_type": "execute_result",
          "data": {
            "text/plain": [
              "{'B-corporation': 8,\n",
              " 'B-creative-work': 11,\n",
              " 'B-group': 6,\n",
              " 'B-location': 2,\n",
              " 'B-person': 7,\n",
              " 'B-product': 12,\n",
              " 'I-corporation': 10,\n",
              " 'I-creative-work': 0,\n",
              " 'I-group': 1,\n",
              " 'I-location': 3,\n",
              " 'I-person': 9,\n",
              " 'I-product': 4,\n",
              " 'O': 5}"
            ]
          },
          "metadata": {
            "tags": []
          },
          "execution_count": 23
        }
      ]
    },
    {
      "cell_type": "code",
      "metadata": {
        "id": "hrX5YwOXms-W",
        "colab_type": "code",
        "colab": {}
      },
      "source": [
        "total_unique_words=len(dict_of_word2idx)\n",
        "dict_of_word2idx['NA']=total_unique_words\n",
        "dict_of_idx2word[total_unique_words]='NA'"
      ],
      "execution_count": 0,
      "outputs": []
    },
    {
      "cell_type": "code",
      "metadata": {
        "id": "FeQxw9ZaocBC",
        "colab_type": "code",
        "outputId": "298573ee-4458-4b3d-a0f1-5176f7f7a98a",
        "colab": {
          "base_uri": "https://localhost:8080/",
          "height": 34
        }
      },
      "source": [
        "len(dict_of_word2idx),len(dict_of_idx2word)"
      ],
      "execution_count": 25,
      "outputs": [
        {
          "output_type": "execute_result",
          "data": {
            "text/plain": [
              "(14880, 14880)"
            ]
          },
          "metadata": {
            "tags": []
          },
          "execution_count": 25
        }
      ]
    },
    {
      "cell_type": "code",
      "metadata": {
        "id": "kWuG8d0JokKJ",
        "colab_type": "code",
        "outputId": "4d6e24f2-778b-4bfc-d138-e9c33329a990",
        "colab": {
          "base_uri": "https://localhost:8080/",
          "height": 79
        }
      },
      "source": [
        "from keras.preprocessing.sequence import pad_sequences\n",
        "X_train = [[dict_of_word2idx[w] for w in s.split(\" \")] for s in train_data]"
      ],
      "execution_count": 26,
      "outputs": [
        {
          "output_type": "stream",
          "text": [
            "Using TensorFlow backend.\n"
          ],
          "name": "stderr"
        },
        {
          "output_type": "display_data",
          "data": {
            "text/html": [
              "<p style=\"color: red;\">\n",
              "The default version of TensorFlow in Colab will soon switch to TensorFlow 2.x.<br>\n",
              "We recommend you <a href=\"https://www.tensorflow.org/guide/migrate\" target=\"_blank\">upgrade</a> now \n",
              "or ensure your notebook will continue to use TensorFlow 1.x via the <code>%tensorflow_version 1.x</code> magic:\n",
              "<a href=\"https://colab.research.google.com/notebooks/tensorflow_version.ipynb\" target=\"_blank\">more info</a>.</p>\n"
            ],
            "text/plain": [
              "<IPython.core.display.HTML object>"
            ]
          },
          "metadata": {
            "tags": []
          }
        }
      ]
    },
    {
      "cell_type": "code",
      "metadata": {
        "id": "5intwFpKprhR",
        "colab_type": "code",
        "colab": {}
      },
      "source": [
        "X_train = pad_sequences(maxlen=48, sequences=X_train, padding=\"post\",value=len(dict_of_word2idx))"
      ],
      "execution_count": 0,
      "outputs": []
    },
    {
      "cell_type": "code",
      "metadata": {
        "id": "ckBriqNGqd8s",
        "colab_type": "code",
        "outputId": "85550e0e-5538-49a4-842a-5ff07f52f3c4",
        "colab": {
          "base_uri": "https://localhost:8080/",
          "height": 118
        }
      },
      "source": [
        "X_train[0],len(train_data[0].split(\" \"))"
      ],
      "execution_count": 28,
      "outputs": [
        {
          "output_type": "execute_result",
          "data": {
            "text/plain": [
              "(array([ 4802, 13965,  5334,  9430,  1959,  7158,  7084,  2118, 14547,\n",
              "         5739,  7091, 13049,  8743, 13816,  5559,  6989,  5733,  9633,\n",
              "         6893, 13816,  6442, 11769,  2432,  7301,  9595,  1641, 13816,\n",
              "        14880, 14880, 14880, 14880, 14880, 14880, 14880, 14880, 14880,\n",
              "        14880, 14880, 14880, 14880, 14880, 14880, 14880, 14880, 14880,\n",
              "        14880, 14880, 14880], dtype=int32), 27)"
            ]
          },
          "metadata": {
            "tags": []
          },
          "execution_count": 28
        }
      ]
    },
    {
      "cell_type": "code",
      "metadata": {
        "id": "G56cws_0qkPi",
        "colab_type": "code",
        "outputId": "48053787-f261-4cf9-c24d-3bda076c7ac9",
        "colab": {
          "base_uri": "https://localhost:8080/",
          "height": 34
        }
      },
      "source": [
        "dict_of_idx2word[14879]"
      ],
      "execution_count": 29,
      "outputs": [
        {
          "output_type": "execute_result",
          "data": {
            "text/plain": [
              "'NA'"
            ]
          },
          "metadata": {
            "tags": []
          },
          "execution_count": 29
        }
      ]
    },
    {
      "cell_type": "code",
      "metadata": {
        "id": "MSHPHZOdrD9b",
        "colab_type": "code",
        "colab": {}
      },
      "source": [
        "y_train = [[dict_of_tag2idx[w] for w in s] for s in train_labels]"
      ],
      "execution_count": 0,
      "outputs": []
    },
    {
      "cell_type": "code",
      "metadata": {
        "id": "tr79c9rgrouM",
        "colab_type": "code",
        "outputId": "d726f7c6-b99c-4bb0-d212-70d7e99fb47d",
        "colab": {
          "base_uri": "https://localhost:8080/",
          "height": 924
        }
      },
      "source": [
        "y_train[0],train_labels[0]"
      ],
      "execution_count": 31,
      "outputs": [
        {
          "output_type": "execute_result",
          "data": {
            "text/plain": [
              "([5,\n",
              "  5,\n",
              "  5,\n",
              "  5,\n",
              "  5,\n",
              "  5,\n",
              "  5,\n",
              "  5,\n",
              "  5,\n",
              "  5,\n",
              "  5,\n",
              "  5,\n",
              "  5,\n",
              "  5,\n",
              "  2,\n",
              "  3,\n",
              "  3,\n",
              "  5,\n",
              "  2,\n",
              "  5,\n",
              "  5,\n",
              "  5,\n",
              "  5,\n",
              "  5,\n",
              "  5,\n",
              "  5,\n",
              "  5],\n",
              " ['O',\n",
              "  'O',\n",
              "  'O',\n",
              "  'O',\n",
              "  'O',\n",
              "  'O',\n",
              "  'O',\n",
              "  'O',\n",
              "  'O',\n",
              "  'O',\n",
              "  'O',\n",
              "  'O',\n",
              "  'O',\n",
              "  'O',\n",
              "  'B-location',\n",
              "  'I-location',\n",
              "  'I-location',\n",
              "  'O',\n",
              "  'B-location',\n",
              "  'O',\n",
              "  'O',\n",
              "  'O',\n",
              "  'O',\n",
              "  'O',\n",
              "  'O',\n",
              "  'O',\n",
              "  'O'])"
            ]
          },
          "metadata": {
            "tags": []
          },
          "execution_count": 31
        }
      ]
    },
    {
      "cell_type": "code",
      "metadata": {
        "id": "JYLL9oIfr95x",
        "colab_type": "code",
        "colab": {}
      },
      "source": [
        "y_train = pad_sequences(maxlen=48, sequences=y_train, padding=\"post\", value=dict_of_tag2idx[\"O\"])"
      ],
      "execution_count": 0,
      "outputs": []
    },
    {
      "cell_type": "code",
      "metadata": {
        "id": "nkXXF1eSsvx9",
        "colab_type": "code",
        "outputId": "919d6706-bdc7-4f48-ec70-f9aa1e991434",
        "colab": {
          "base_uri": "https://localhost:8080/",
          "height": 67
        }
      },
      "source": [
        "y_train[0]"
      ],
      "execution_count": 33,
      "outputs": [
        {
          "output_type": "execute_result",
          "data": {
            "text/plain": [
              "array([5, 5, 5, 5, 5, 5, 5, 5, 5, 5, 5, 5, 5, 5, 2, 3, 3, 5, 2, 5, 5, 5,\n",
              "       5, 5, 5, 5, 5, 5, 5, 5, 5, 5, 5, 5, 5, 5, 5, 5, 5, 5, 5, 5, 5, 5,\n",
              "       5, 5, 5, 5], dtype=int32)"
            ]
          },
          "metadata": {
            "tags": []
          },
          "execution_count": 33
        }
      ]
    },
    {
      "cell_type": "code",
      "metadata": {
        "id": "rFlwmlT5t9SW",
        "colab_type": "code",
        "outputId": "0b9b9a3d-a1da-4b3b-b9cf-019a68bc6e6d",
        "colab": {
          "base_uri": "https://localhost:8080/",
          "height": 34
        }
      },
      "source": [
        "num_classes=len(dict_of_tag2idx)\n",
        "num_classes"
      ],
      "execution_count": 34,
      "outputs": [
        {
          "output_type": "execute_result",
          "data": {
            "text/plain": [
              "13"
            ]
          },
          "metadata": {
            "tags": []
          },
          "execution_count": 34
        }
      ]
    },
    {
      "cell_type": "code",
      "metadata": {
        "id": "I7PyJb24uYmi",
        "colab_type": "code",
        "colab": {}
      },
      "source": [
        "import numpy as np"
      ],
      "execution_count": 0,
      "outputs": []
    },
    {
      "cell_type": "code",
      "metadata": {
        "id": "wJ_-0X4xtYHF",
        "colab_type": "code",
        "colab": {}
      },
      "source": [
        "from keras.utils import to_categorical\n",
        "y_train1 = np.array([to_categorical(i, num_classes=num_classes) for i in y_train])"
      ],
      "execution_count": 0,
      "outputs": []
    },
    {
      "cell_type": "code",
      "metadata": {
        "id": "wYXnej-HuPRk",
        "colab_type": "code",
        "outputId": "09bf374b-6efa-4d39-f2b0-52f60e7b19aa",
        "colab": {
          "base_uri": "https://localhost:8080/",
          "height": 34
        }
      },
      "source": [
        "y_train.shape"
      ],
      "execution_count": 37,
      "outputs": [
        {
          "output_type": "execute_result",
          "data": {
            "text/plain": [
              "(3395, 48)"
            ]
          },
          "metadata": {
            "tags": []
          },
          "execution_count": 37
        }
      ]
    },
    {
      "cell_type": "code",
      "metadata": {
        "id": "LCp7XD77syXq",
        "colab_type": "code",
        "outputId": "46b6b684-2243-4b44-d701-4fa73c9e1282",
        "colab": {
          "base_uri": "https://localhost:8080/",
          "height": 34
        }
      },
      "source": [
        "y_train1.shape"
      ],
      "execution_count": 38,
      "outputs": [
        {
          "output_type": "execute_result",
          "data": {
            "text/plain": [
              "(3395, 48, 13)"
            ]
          },
          "metadata": {
            "tags": []
          },
          "execution_count": 38
        }
      ]
    },
    {
      "cell_type": "code",
      "metadata": {
        "id": "koJ8UrX-uy1a",
        "colab_type": "code",
        "outputId": "9e3b25f2-78fd-4a91-bc6f-4565eeb6f42b",
        "colab": {
          "base_uri": "https://localhost:8080/",
          "height": 34
        }
      },
      "source": [
        "X_train.shape"
      ],
      "execution_count": 39,
      "outputs": [
        {
          "output_type": "execute_result",
          "data": {
            "text/plain": [
              "(3395, 48)"
            ]
          },
          "metadata": {
            "tags": []
          },
          "execution_count": 39
        }
      ]
    },
    {
      "cell_type": "code",
      "metadata": {
        "id": "GsY3tdt5va_a",
        "colab_type": "code",
        "colab": {}
      },
      "source": [
        "X_test = [[dict_of_word2idx[w] if dict_of_word2idx.get(w)!=None else dict_of_word2idx['NA']  for w in s.split(\" \")] for s in test_data]"
      ],
      "execution_count": 0,
      "outputs": []
    },
    {
      "cell_type": "code",
      "metadata": {
        "id": "kV4zEZUNxM8-",
        "colab_type": "code",
        "colab": {}
      },
      "source": [
        "X_test=pad_sequences(maxlen=64, sequences=X_test, padding=\"post\",value=len(dict_of_word2idx))"
      ],
      "execution_count": 0,
      "outputs": []
    },
    {
      "cell_type": "code",
      "metadata": {
        "id": "JoXz4KPJxsSQ",
        "colab_type": "code",
        "outputId": "8ecf2113-d39c-432d-89c6-843b3490e0ed",
        "colab": {
          "base_uri": "https://localhost:8080/",
          "height": 151
        }
      },
      "source": [
        "X_test[0]"
      ],
      "execution_count": 42,
      "outputs": [
        {
          "output_type": "execute_result",
          "data": {
            "text/plain": [
              "array([14879, 14879,  3304, 12737, 11516, 14879,  5656,  2753,  7575,\n",
              "        3948, 14879, 11040,  8904, 14879, 14879,  6765,  9430, 14879,\n",
              "        5654,  7076, 14879, 11499,  8355,  4474, 14879, 14879, 13816,\n",
              "       14880, 14880, 14880, 14880, 14880, 14880, 14880, 14880, 14880,\n",
              "       14880, 14880, 14880, 14880, 14880, 14880, 14880, 14880, 14880,\n",
              "       14880, 14880, 14880, 14880, 14880, 14880, 14880, 14880, 14880,\n",
              "       14880, 14880, 14880, 14880, 14880, 14880, 14880, 14880, 14880,\n",
              "       14880], dtype=int32)"
            ]
          },
          "metadata": {
            "tags": []
          },
          "execution_count": 42
        }
      ]
    },
    {
      "cell_type": "code",
      "metadata": {
        "id": "dMYXv6Cx9LLq",
        "colab_type": "code",
        "colab": {}
      },
      "source": [
        ""
      ],
      "execution_count": 0,
      "outputs": []
    },
    {
      "cell_type": "code",
      "metadata": {
        "id": "jZs3_-H1xdsA",
        "colab_type": "code",
        "outputId": "22785412-5ee4-4ca2-97ba-9dfce48e7cd5",
        "colab": {
          "base_uri": "https://localhost:8080/",
          "height": 339
        }
      },
      "source": [
        "from keras.models import Model, Input\n",
        "from keras.layers import LSTM, Embedding, Dense, TimeDistributed, Dropout, Bidirectional\n",
        "import keras as K\n",
        "!pip install git+https://www.github.com/keras-team/keras-contrib.git\n",
        "from keras_contrib.layers import CRF"
      ],
      "execution_count": 43,
      "outputs": [
        {
          "output_type": "stream",
          "text": [
            "Collecting git+https://www.github.com/keras-team/keras-contrib.git\n",
            "  Cloning https://www.github.com/keras-team/keras-contrib.git to /tmp/pip-req-build-2wq0janh\n",
            "  Running command git clone -q https://www.github.com/keras-team/keras-contrib.git /tmp/pip-req-build-2wq0janh\n",
            "Requirement already satisfied: keras in /usr/local/lib/python3.6/dist-packages (from keras-contrib==2.0.8) (2.2.5)\n",
            "Requirement already satisfied: six>=1.9.0 in /usr/local/lib/python3.6/dist-packages (from keras->keras-contrib==2.0.8) (1.12.0)\n",
            "Requirement already satisfied: keras-applications>=1.0.8 in /usr/local/lib/python3.6/dist-packages (from keras->keras-contrib==2.0.8) (1.0.8)\n",
            "Requirement already satisfied: h5py in /usr/local/lib/python3.6/dist-packages (from keras->keras-contrib==2.0.8) (2.8.0)\n",
            "Requirement already satisfied: keras-preprocessing>=1.1.0 in /usr/local/lib/python3.6/dist-packages (from keras->keras-contrib==2.0.8) (1.1.0)\n",
            "Requirement already satisfied: pyyaml in /usr/local/lib/python3.6/dist-packages (from keras->keras-contrib==2.0.8) (3.13)\n",
            "Requirement already satisfied: scipy>=0.14 in /usr/local/lib/python3.6/dist-packages (from keras->keras-contrib==2.0.8) (1.3.2)\n",
            "Requirement already satisfied: numpy>=1.9.1 in /usr/local/lib/python3.6/dist-packages (from keras->keras-contrib==2.0.8) (1.17.4)\n",
            "Building wheels for collected packages: keras-contrib\n",
            "  Building wheel for keras-contrib (setup.py) ... \u001b[?25l\u001b[?25hdone\n",
            "  Created wheel for keras-contrib: filename=keras_contrib-2.0.8-cp36-none-any.whl size=101065 sha256=095ebb3380c6d820f7d660e44557d039e6c79593c8d5e117b77dbabab25a0dba\n",
            "  Stored in directory: /tmp/pip-ephem-wheel-cache-7jcw_jgc/wheels/11/27/c8/4ed56de7b55f4f61244e2dc6ef3cdbaff2692527a2ce6502ba\n",
            "Successfully built keras-contrib\n",
            "Installing collected packages: keras-contrib\n",
            "Successfully installed keras-contrib-2.0.8\n"
          ],
          "name": "stdout"
        }
      ]
    },
    {
      "cell_type": "code",
      "metadata": {
        "id": "IbSyZ0U8dPs0",
        "colab_type": "code",
        "colab": {}
      },
      "source": [
        "weights=dict()\n",
        "for each_tag in dict_of_idx2tag.keys():\n",
        "  curr_tag=dict_of_idx2tag[each_tag]\n",
        "  num=counter[curr_tag]\n",
        "  weights[each_tag]=total/num"
      ],
      "execution_count": 0,
      "outputs": []
    },
    {
      "cell_type": "code",
      "metadata": {
        "id": "2AJTI6X2d-fO",
        "colab_type": "code",
        "outputId": "873804e2-09aa-404e-fb63-344f280e98d7",
        "colab": {
          "base_uri": "https://localhost:8080/",
          "height": 235
        }
      },
      "source": [
        "weights"
      ],
      "execution_count": 45,
      "outputs": [
        {
          "output_type": "execute_result",
          "data": {
            "text/plain": [
              "{0: 304.5145631067961,\n",
              " 1: 418.2,\n",
              " 2: 114.47080291970804,\n",
              " 3: 256.0408163265306,\n",
              " 4: 309.01477832512313,\n",
              " 5: 1.0530468356555314,\n",
              " 6: 237.61363636363637,\n",
              " 7: 95.04545454545455,\n",
              " 8: 283.84615384615387,\n",
              " 9: 187.2537313432836,\n",
              " 10: 1363.695652173913,\n",
              " 11: 448.07142857142856,\n",
              " 12: 441.76056338028167}"
            ]
          },
          "metadata": {
            "tags": []
          },
          "execution_count": 45
        }
      ]
    },
    {
      "cell_type": "code",
      "metadata": {
        "id": "3TcXu78ox5WH",
        "colab_type": "code",
        "outputId": "d632b151-de79-45a2-eb44-ba0189212ff0",
        "colab": {
          "base_uri": "https://localhost:8080/",
          "height": 222
        }
      },
      "source": [
        "input = Input(shape=(48,))\n",
        "model = Embedding(input_dim=len(dict_of_word2idx)+1, output_dim=42, input_length=48)(input)\n",
        "model = Dropout(0.1)(model)\n",
        "model = Bidirectional(LSTM(units=200, return_sequences=True, recurrent_dropout=0.1))(model)\n",
        "out = TimeDistributed(Dense(len(dict_of_tag2idx), activation=\"softmax\"))(model)  # softmax output layer"
      ],
      "execution_count": 46,
      "outputs": [
        {
          "output_type": "stream",
          "text": [
            "WARNING:tensorflow:From /usr/local/lib/python3.6/dist-packages/keras/backend/tensorflow_backend.py:66: The name tf.get_default_graph is deprecated. Please use tf.compat.v1.get_default_graph instead.\n",
            "\n",
            "WARNING:tensorflow:From /usr/local/lib/python3.6/dist-packages/keras/backend/tensorflow_backend.py:541: The name tf.placeholder is deprecated. Please use tf.compat.v1.placeholder instead.\n",
            "\n",
            "WARNING:tensorflow:From /usr/local/lib/python3.6/dist-packages/keras/backend/tensorflow_backend.py:4432: The name tf.random_uniform is deprecated. Please use tf.random.uniform instead.\n",
            "\n",
            "WARNING:tensorflow:From /usr/local/lib/python3.6/dist-packages/keras/backend/tensorflow_backend.py:148: The name tf.placeholder_with_default is deprecated. Please use tf.compat.v1.placeholder_with_default instead.\n",
            "\n",
            "WARNING:tensorflow:From /usr/local/lib/python3.6/dist-packages/keras/backend/tensorflow_backend.py:3733: calling dropout (from tensorflow.python.ops.nn_ops) with keep_prob is deprecated and will be removed in a future version.\n",
            "Instructions for updating:\n",
            "Please use `rate` instead of `keep_prob`. Rate should be set to `rate = 1 - keep_prob`.\n"
          ],
          "name": "stdout"
        }
      ]
    },
    {
      "cell_type": "code",
      "metadata": {
        "id": "52ZLdzyhzH-T",
        "colab_type": "code",
        "colab": {}
      },
      "source": [
        "model = Model(input, out)"
      ],
      "execution_count": 0,
      "outputs": []
    },
    {
      "cell_type": "code",
      "metadata": {
        "id": "oSuKjNEgzJm5",
        "colab_type": "code",
        "outputId": "5b5a4812-ca1c-4090-809e-33f2e671a077",
        "colab": {
          "base_uri": "https://localhost:8080/",
          "height": 319
        }
      },
      "source": [
        "model.summary()"
      ],
      "execution_count": 48,
      "outputs": [
        {
          "output_type": "stream",
          "text": [
            "Model: \"model_1\"\n",
            "_________________________________________________________________\n",
            "Layer (type)                 Output Shape              Param #   \n",
            "=================================================================\n",
            "input_1 (InputLayer)         (None, 48)                0         \n",
            "_________________________________________________________________\n",
            "embedding_1 (Embedding)      (None, 48, 42)            625002    \n",
            "_________________________________________________________________\n",
            "dropout_1 (Dropout)          (None, 48, 42)            0         \n",
            "_________________________________________________________________\n",
            "bidirectional_1 (Bidirection (None, 48, 400)           388800    \n",
            "_________________________________________________________________\n",
            "time_distributed_1 (TimeDist (None, 48, 13)            5213      \n",
            "=================================================================\n",
            "Total params: 1,019,015\n",
            "Trainable params: 1,019,015\n",
            "Non-trainable params: 0\n",
            "_________________________________________________________________\n"
          ],
          "name": "stdout"
        }
      ]
    },
    {
      "cell_type": "code",
      "metadata": {
        "id": "zRyh_fLn-B1e",
        "colab_type": "code",
        "outputId": "5d3e08b8-64c7-4e0d-a773-759b53cae79a",
        "colab": {
          "base_uri": "https://localhost:8080/",
          "height": 322
        }
      },
      "source": [
        "!pip install seqeval\n",
        "from seqeval.callbacks import F1Metrics"
      ],
      "execution_count": 49,
      "outputs": [
        {
          "output_type": "stream",
          "text": [
            "Collecting seqeval\n",
            "  Downloading https://files.pythonhosted.org/packages/34/91/068aca8d60ce56dd9ba4506850e876aba5e66a6f2f29aa223224b50df0de/seqeval-0.0.12.tar.gz\n",
            "Requirement already satisfied: numpy>=1.14.0 in /usr/local/lib/python3.6/dist-packages (from seqeval) (1.17.4)\n",
            "Requirement already satisfied: Keras>=2.2.4 in /usr/local/lib/python3.6/dist-packages (from seqeval) (2.2.5)\n",
            "Requirement already satisfied: h5py in /usr/local/lib/python3.6/dist-packages (from Keras>=2.2.4->seqeval) (2.8.0)\n",
            "Requirement already satisfied: pyyaml in /usr/local/lib/python3.6/dist-packages (from Keras>=2.2.4->seqeval) (3.13)\n",
            "Requirement already satisfied: six>=1.9.0 in /usr/local/lib/python3.6/dist-packages (from Keras>=2.2.4->seqeval) (1.12.0)\n",
            "Requirement already satisfied: scipy>=0.14 in /usr/local/lib/python3.6/dist-packages (from Keras>=2.2.4->seqeval) (1.3.2)\n",
            "Requirement already satisfied: keras-preprocessing>=1.1.0 in /usr/local/lib/python3.6/dist-packages (from Keras>=2.2.4->seqeval) (1.1.0)\n",
            "Requirement already satisfied: keras-applications>=1.0.8 in /usr/local/lib/python3.6/dist-packages (from Keras>=2.2.4->seqeval) (1.0.8)\n",
            "Building wheels for collected packages: seqeval\n",
            "  Building wheel for seqeval (setup.py) ... \u001b[?25l\u001b[?25hdone\n",
            "  Created wheel for seqeval: filename=seqeval-0.0.12-cp36-none-any.whl size=7424 sha256=5a18f3f59c321151f6fef10c670953374b4ae1d44e566afa07234a57d4be4e10\n",
            "  Stored in directory: /root/.cache/pip/wheels/4f/32/0a/df3b340a82583566975377d65e724895b3fad101a3fb729f68\n",
            "Successfully built seqeval\n",
            "Installing collected packages: seqeval\n",
            "Successfully installed seqeval-0.0.12\n"
          ],
          "name": "stdout"
        }
      ]
    },
    {
      "cell_type": "code",
      "metadata": {
        "id": "rQwDE1V90WyP",
        "colab_type": "code",
        "colab": {}
      },
      "source": [
        "adam = K.optimizers.Adam(lr=0.0005, beta_1=0.9, beta_2=0.999)\n",
        "#model.compile(optimizer=adam, loss=crf.loss_function, metrics=[crf.accuracy, 'accuracy'])\n",
        "#model.compile(optimizer=adam, loss=\"categorical_crossentropy\", metrics=[\"accuracy\"])\n",
        "model.compile(optimizer=adam, loss=\"categorical_crossentropy\", metrics=[\"accuracy\"])"
      ],
      "execution_count": 0,
      "outputs": []
    },
    {
      "cell_type": "code",
      "metadata": {
        "id": "R5Q0WW030qOI",
        "colab_type": "code",
        "colab": {}
      },
      "source": [
        "# Saving the best only\n",
        "from keras.callbacks import ModelCheckpoint\n",
        "filepath=\"best_model.h5\"\n",
        "checkpoint = ModelCheckpoint(filepath, monitor='val_acc', verbose=1, save_best_only=True, mode='max')\n",
        "dict_of_idx2tag=  {i:t for i,t in enumerate(unique_train_labels)}\n",
        "callbacks_list = [checkpoint,F1Metrics(dict_of_idx2tag)]"
      ],
      "execution_count": 0,
      "outputs": []
    },
    {
      "cell_type": "code",
      "metadata": {
        "id": "BblpbfwoNy3d",
        "colab_type": "code",
        "outputId": "77a2ad9d-2f44-4cfc-9b6e-18447cb3cb37",
        "colab": {
          "base_uri": "https://localhost:8080/",
          "height": 235
        }
      },
      "source": [
        "dict_of_idx2tag"
      ],
      "execution_count": 52,
      "outputs": [
        {
          "output_type": "execute_result",
          "data": {
            "text/plain": [
              "{0: 'I-creative-work',\n",
              " 1: 'I-group',\n",
              " 2: 'B-location',\n",
              " 3: 'I-location',\n",
              " 4: 'I-product',\n",
              " 5: 'O',\n",
              " 6: 'B-group',\n",
              " 7: 'B-person',\n",
              " 8: 'B-corporation',\n",
              " 9: 'I-person',\n",
              " 10: 'I-corporation',\n",
              " 11: 'B-creative-work',\n",
              " 12: 'B-product'}"
            ]
          },
          "metadata": {
            "tags": []
          },
          "execution_count": 52
        }
      ]
    },
    {
      "cell_type": "code",
      "metadata": {
        "id": "j4P2sd1P0i37",
        "colab_type": "code",
        "outputId": "9a77ed93-2172-48fb-fc64-a137eef6fda3",
        "colab": {
          "base_uri": "https://localhost:8080/",
          "height": 709
        }
      },
      "source": [
        "history = model.fit(X_train, y_train1, batch_size=64, epochs=10, validation_split=0.2, verbose=1)"
      ],
      "execution_count": 58,
      "outputs": [
        {
          "output_type": "stream",
          "text": [
            "WARNING:tensorflow:From /usr/local/lib/python3.6/dist-packages/tensorflow_core/python/ops/math_grad.py:1424: where (from tensorflow.python.ops.array_ops) is deprecated and will be removed in a future version.\n",
            "Instructions for updating:\n",
            "Use tf.where in 2.0, which has the same broadcast rule as np.where\n",
            "WARNING:tensorflow:From /usr/local/lib/python3.6/dist-packages/keras/backend/tensorflow_backend.py:1033: The name tf.assign_add is deprecated. Please use tf.compat.v1.assign_add instead.\n",
            "\n",
            "WARNING:tensorflow:From /usr/local/lib/python3.6/dist-packages/keras/backend/tensorflow_backend.py:1020: The name tf.assign is deprecated. Please use tf.compat.v1.assign instead.\n",
            "\n",
            "WARNING:tensorflow:From /usr/local/lib/python3.6/dist-packages/keras/backend/tensorflow_backend.py:3005: The name tf.Session is deprecated. Please use tf.compat.v1.Session instead.\n",
            "\n",
            "Train on 2716 samples, validate on 679 samples\n",
            "Epoch 1/10\n",
            "WARNING:tensorflow:From /usr/local/lib/python3.6/dist-packages/keras/backend/tensorflow_backend.py:190: The name tf.get_default_session is deprecated. Please use tf.compat.v1.get_default_session instead.\n",
            "\n",
            "WARNING:tensorflow:From /usr/local/lib/python3.6/dist-packages/keras/backend/tensorflow_backend.py:197: The name tf.ConfigProto is deprecated. Please use tf.compat.v1.ConfigProto instead.\n",
            "\n",
            "WARNING:tensorflow:From /usr/local/lib/python3.6/dist-packages/keras/backend/tensorflow_backend.py:207: The name tf.global_variables is deprecated. Please use tf.compat.v1.global_variables instead.\n",
            "\n",
            "WARNING:tensorflow:From /usr/local/lib/python3.6/dist-packages/keras/backend/tensorflow_backend.py:216: The name tf.is_variable_initialized is deprecated. Please use tf.compat.v1.is_variable_initialized instead.\n",
            "\n",
            "WARNING:tensorflow:From /usr/local/lib/python3.6/dist-packages/keras/backend/tensorflow_backend.py:223: The name tf.variables_initializer is deprecated. Please use tf.compat.v1.variables_initializer instead.\n",
            "\n",
            "2716/2716 [==============================] - 16s 6ms/step - loss: 0.8527 - acc: 0.9576 - val_loss: 0.1460 - val_acc: 0.9796\n",
            "Epoch 2/10\n",
            "2716/2716 [==============================] - 13s 5ms/step - loss: 0.1397 - acc: 0.9809 - val_loss: 0.1330 - val_acc: 0.9796\n",
            "Epoch 3/10\n",
            "2716/2716 [==============================] - 13s 5ms/step - loss: 0.1249 - acc: 0.9809 - val_loss: 0.1268 - val_acc: 0.9796\n",
            "Epoch 4/10\n",
            "2716/2716 [==============================] - 13s 5ms/step - loss: 0.1205 - acc: 0.9809 - val_loss: 0.1256 - val_acc: 0.9796\n",
            "Epoch 5/10\n",
            "2716/2716 [==============================] - 13s 5ms/step - loss: 0.1174 - acc: 0.9809 - val_loss: 0.1251 - val_acc: 0.9796\n",
            "Epoch 6/10\n",
            "2716/2716 [==============================] - 13s 5ms/step - loss: 0.1138 - acc: 0.9809 - val_loss: 0.1243 - val_acc: 0.9796\n",
            "Epoch 7/10\n",
            "2716/2716 [==============================] - 13s 5ms/step - loss: 0.1096 - acc: 0.9809 - val_loss: 0.1244 - val_acc: 0.9796\n",
            "Epoch 8/10\n",
            "2716/2716 [==============================] - 13s 5ms/step - loss: 0.1048 - acc: 0.9809 - val_loss: 0.1243 - val_acc: 0.9796\n",
            "Epoch 9/10\n",
            "2716/2716 [==============================] - 13s 5ms/step - loss: 0.0995 - acc: 0.9809 - val_loss: 0.1260 - val_acc: 0.9796\n",
            "Epoch 10/10\n",
            "2716/2716 [==============================] - 13s 5ms/step - loss: 0.0939 - acc: 0.9809 - val_loss: 0.1284 - val_acc: 0.9796\n"
          ],
          "name": "stdout"
        }
      ]
    },
    {
      "cell_type": "code",
      "metadata": {
        "id": "8V_6oqy78Naf",
        "colab_type": "code",
        "outputId": "9efb7c66-2a52-4e4b-baeb-f8321403d4d3",
        "colab": {
          "base_uri": "https://localhost:8080/",
          "height": 54
        }
      },
      "source": [
        "test_data[0]"
      ],
      "execution_count": 59,
      "outputs": [
        {
          "output_type": "execute_result",
          "data": {
            "text/plain": [
              "'& gt ; * The soldier was killed when another avalanche hit an army barracks in the northern area of Sonmarg , said a military spokesman .'"
            ]
          },
          "metadata": {
            "tags": []
          },
          "execution_count": 59
        }
      ]
    },
    {
      "cell_type": "code",
      "metadata": {
        "id": "69acB-od0f1g",
        "colab_type": "code",
        "outputId": "d01a1d4d-56cc-48cc-f285-b00d22fde5a7",
        "colab": {
          "base_uri": "https://localhost:8080/",
          "height": 168
        }
      },
      "source": [
        "i = 249\n",
        "p = model.predict(np.array([X_train[i]]))\n",
        "p = np.argmax(p, axis=-1)\n",
        "true=np.argmax(y_train[i],axis=-1)\n",
        "print(X_test[i])\n",
        "print(true)\n",
        "print(p)"
      ],
      "execution_count": 60,
      "outputs": [
        {
          "output_type": "stream",
          "text": [
            "[ 6409 12518 14879 11499 11716  1302 14879 12518 13837  6765 14879 13816\n",
            " 14880 14880 14880 14880 14880 14880 14880 14880 14880 14880 14880 14880\n",
            " 14880 14880 14880 14880 14880 14880 14880 14880 14880 14880 14880 14880\n",
            " 14880 14880 14880 14880 14880 14880 14880 14880 14880 14880 14880 14880\n",
            " 14880 14880 14880 14880 14880 14880 14880 14880 14880 14880 14880 14880\n",
            " 14880 14880 14880 14880]\n",
            "0\n",
            "[[5 5 5 5 5 5 5 5 5 5 5 5 5 5 5 5 5 5 5 5 5 5 5 5 5 5 5 5 5 5 5 5 5 5 5 5\n",
            "  5 5 5 5 5 5 5 5 5 5 5 5]]\n"
          ],
          "name": "stdout"
        }
      ]
    }
  ]
}